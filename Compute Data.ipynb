{
 "cells": [
  {
   "cell_type": "code",
   "execution_count": 1,
   "metadata": {
    "collapsed": true
   },
   "outputs": [],
   "source": [
    "from collections import Counter\n",
    "import pandas as pd\n",
    "import numpy as np\n",
    "import pickle"
   ]
  },
  {
   "cell_type": "code",
   "execution_count": 2,
   "metadata": {
    "collapsed": true
   },
   "outputs": [],
   "source": [
    "f = open('data/out.pkl', 'r')\n",
    "data = pickle.load(f) \n",
    "f.close()"
   ]
  },
  {
   "cell_type": "code",
   "execution_count": 3,
   "metadata": {
    "collapsed": false
   },
   "outputs": [],
   "source": [
    "#del data['Rank']\n",
    "#del data['Time']\n",
    "#del data['Pace']\n",
    "#del data['Temp']\n",
    "#del data['halfMarathonTime']\n",
    "#del data['yrsSinceLast']\n",
    "#del data['Age']\n",
    "#del data['Year']"
   ]
  },
  {
   "cell_type": "markdown",
   "metadata": {},
   "source": [
    "## Average number of races per person"
   ]
  },
  {
   "cell_type": "code",
   "execution_count": 4,
   "metadata": {
    "collapsed": false,
    "scrolled": true
   },
   "outputs": [
    {
     "name": "stdout",
     "output_type": "stream",
     "text": [
      "Counter({1: 23383, 2: 2591, 3: 769, 4: 337, 5: 169, 6: 68, 7: 38, 8: 27, 9: 21, 10: 11, 11: 9, 12: 8, 13: 6})\n",
      "1.25841017604\n"
     ]
    }
   ],
   "source": [
    "ids = list(set(data['Id'].values.tolist()))\n",
    "p = len(ids)\n",
    "r = 0.\n",
    "histogram = []\n",
    "for i in ids:\n",
    "    r+=data[data['Id']==i]['raceCount'].values[0]\n",
    "    histogram.append(data[data['Id']==i]['raceCount'].values[0])\n",
    "hist = Counter(histogram)\n",
    "print hist\n",
    "print r/p"
   ]
  },
  {
   "cell_type": "code",
   "execution_count": 5,
   "metadata": {
    "collapsed": true
   },
   "outputs": [],
   "source": [
    "#data['raceCount']\n",
    "#data['prevRaceCount']"
   ]
  },
  {
   "cell_type": "markdown",
   "metadata": {},
   "source": [
    "## Racers per Year"
   ]
  },
  {
   "cell_type": "code",
   "execution_count": 6,
   "metadata": {
    "collapsed": false
   },
   "outputs": [
    {
     "name": "stdout",
     "output_type": "stream",
     "text": [
      "{2016: 3004, 2003: 1447, 2004: 1748, 2005: 1739, 2006: 2434, 2007: 2495, 2008: 2607, 2009: 2732, 2010: 2828, 2011: 3479, 2012: 3821, 2013: 0, 2014: 3468, 2015: 2725}\n"
     ]
    }
   ],
   "source": [
    "racers_per_year = {}\n",
    "for y in range(2003,2017):\n",
    "    racers_per_year[y] = data[data['Year']==y]['Id'].size\n",
    "print racers_per_year"
   ]
  },
  {
   "cell_type": "markdown",
   "metadata": {},
   "source": [
    "## Total Racers without 2013"
   ]
  },
  {
   "cell_type": "code",
   "execution_count": 7,
   "metadata": {
    "collapsed": false
   },
   "outputs": [
    {
     "name": "stdout",
     "output_type": "stream",
     "text": [
      "34527\n"
     ]
    }
   ],
   "source": [
    "print sum(racers_per_year.values())"
   ]
  },
  {
   "cell_type": "code",
   "execution_count": null,
   "metadata": {
    "collapsed": true
   },
   "outputs": [],
   "source": []
  }
 ],
 "metadata": {
  "kernelspec": {
   "display_name": "Python 2",
   "language": "python",
   "name": "python2"
  },
  "language_info": {
   "codemirror_mode": {
    "name": "ipython",
    "version": 2
   },
   "file_extension": ".py",
   "mimetype": "text/x-python",
   "name": "python",
   "nbconvert_exporter": "python",
   "pygments_lexer": "ipython2",
   "version": "2.7.10"
  }
 },
 "nbformat": 4,
 "nbformat_minor": 1
}
