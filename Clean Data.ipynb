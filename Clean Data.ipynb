{
 "cells": [
  {
   "cell_type": "code",
   "execution_count": 1,
   "metadata": {
    "collapsed": false
   },
   "outputs": [],
   "source": [
    "import pandas as pd\n",
    "import numpy as np\n",
    "from collections import Counter\n",
    "data = pd.read_csv('data/data.csv')\n",
    "#data = pd.DataFrame.from_csv('data/data.csv')"
   ]
  },
  {
   "cell_type": "markdown",
   "metadata": {},
   "source": [
    "## Get Id's where Age is 0 "
   ]
  },
  {
   "cell_type": "code",
   "execution_count": 2,
   "metadata": {
    "collapsed": false
   },
   "outputs": [],
   "source": [
    "zeroAge = data[data['Age'] == 0].index.tolist()"
   ]
  },
  {
   "cell_type": "code",
   "execution_count": 3,
   "metadata": {
    "collapsed": false
   },
   "outputs": [],
   "source": [
    "runnerId = [data.iloc[x]['Id'] for x in zeroAge]"
   ]
  },
  {
   "cell_type": "code",
   "execution_count": 4,
   "metadata": {
    "collapsed": false,
    "scrolled": true
   },
   "outputs": [
    {
     "name": "stdout",
     "output_type": "stream",
     "text": [
      "      Id  Age  Rank  Year   Time  Pace  Sex\n",
      "488  308   45  1204  2016  15137   578    0\n",
      "489  308    0  1357  2014  15975   609    0\n",
      "        Id  Age  Rank  Year   Time  Pace  Sex\n",
      "2041  1229   48  2717  2009  22803   870    1\n",
      "2042  1229   47  2414  2008  20344   776    1\n",
      "2043  1229   53  3194  2014  21215   809    1\n",
      "2044  1229   46  2054  2007  19896   759    1\n",
      "2045  1229   51  3870  2012  23302   889    1\n",
      "2046  1229    0  3332  2011  20990   801    1\n",
      "2047  1229   50  2208  2006  21090   804    1\n",
      "2048  1229   50  3482  2011  22896   873    1\n",
      "2049  1229   49  2811  2010  23191   885    1\n",
      "2050  1229   44  1566  2005  19757   754    1\n",
      "2051  1229   55  2783  2016  20941   800    1\n",
      "2052  1229   50  2748  2015  25435   970    1\n",
      "         Id  Age  Rank  Year   Time  Pace  Sex\n",
      "10743  6491   43   217  2006  12496   476    1\n",
      "10744  6491   50   396  2015  13172   502    1\n",
      "10745  6491    0   264  2012  12452   475    1\n",
      "10746  6491   42    84  2005  11596   442    1\n",
      "         Id  Age  Rank  Year   Time  Pace  Sex\n",
      "13064  8250   47   501  2009  13384   510    1\n",
      "13065  8250    0   282  2006  12790   488    1\n",
      "13066  8250   45   196  2007  12790   488    1\n",
      "13067  8250   46   278  2008  12690   484    1\n",
      "          Id  Age  Rank  Year   Time  Pace  Sex\n",
      "23763  16673    0  2692  2010  21413   817    1\n",
      "          Id  Age  Rank  Year   Time  Pace  Sex\n",
      "24098  16954    0  2591  2010  20529   783    1\n",
      "          Id  Age  Rank  Year   Time  Pace  Sex\n",
      "24231  17070    0  2041  2011  16397   625    1\n",
      "24232  17070   30  1589  2010  16739   638    1\n",
      "          Id  Age  Rank  Year   Time  Pace  Sex\n",
      "25247  17902    0  3344  2011  21135   806    1\n",
      "          Id  Age  Rank  Year   Time  Pace  Sex\n",
      "25596  18202    0  1402  2011  15040   574    0\n",
      "          Id  Age  Rank  Year  Time  Pace  Sex\n",
      "30993  22942    0  2877  2013  7167   547    1\n",
      "          Id  Age  Rank  Year  Time  Pace  Sex\n",
      "31813  23714    0  2228  2013  6949   530    1\n",
      "31814  23714    0  2363  2013  7003   534    1\n",
      "31815  23714    0  1877  2013  6816   520    1\n",
      "31816  23714    0  1289  2013  6547   499    1\n",
      "31817  23714    0  2194  2013  6934   529    1\n",
      "31818  23714    0    64  2013  5132   391    1\n",
      "          Id  Age  Rank  Year  Time  Pace  Sex\n",
      "31813  23714    0  2228  2013  6949   530    1\n",
      "31814  23714    0  2363  2013  7003   534    1\n",
      "31815  23714    0  1877  2013  6816   520    1\n",
      "31816  23714    0  1289  2013  6547   499    1\n",
      "31817  23714    0  2194  2013  6934   529    1\n",
      "31818  23714    0    64  2013  5132   391    1\n",
      "          Id  Age  Rank  Year  Time  Pace  Sex\n",
      "31813  23714    0  2228  2013  6949   530    1\n",
      "31814  23714    0  2363  2013  7003   534    1\n",
      "31815  23714    0  1877  2013  6816   520    1\n",
      "31816  23714    0  1289  2013  6547   499    1\n",
      "31817  23714    0  2194  2013  6934   529    1\n",
      "31818  23714    0    64  2013  5132   391    1\n",
      "          Id  Age  Rank  Year  Time  Pace  Sex\n",
      "31813  23714    0  2228  2013  6949   530    1\n",
      "31814  23714    0  2363  2013  7003   534    1\n",
      "31815  23714    0  1877  2013  6816   520    1\n",
      "31816  23714    0  1289  2013  6547   499    1\n",
      "31817  23714    0  2194  2013  6934   529    1\n",
      "31818  23714    0    64  2013  5132   391    1\n",
      "          Id  Age  Rank  Year  Time  Pace  Sex\n",
      "31813  23714    0  2228  2013  6949   530    1\n",
      "31814  23714    0  2363  2013  7003   534    1\n",
      "31815  23714    0  1877  2013  6816   520    1\n",
      "31816  23714    0  1289  2013  6547   499    1\n",
      "31817  23714    0  2194  2013  6934   529    1\n",
      "31818  23714    0    64  2013  5132   391    1\n",
      "          Id  Age  Rank  Year  Time  Pace  Sex\n",
      "31813  23714    0  2228  2013  6949   530    1\n",
      "31814  23714    0  2363  2013  7003   534    1\n",
      "31815  23714    0  1877  2013  6816   520    1\n",
      "31816  23714    0  1289  2013  6547   499    1\n",
      "31817  23714    0  2194  2013  6934   529    1\n",
      "31818  23714    0    64  2013  5132   391    1\n",
      "          Id  Age  Rank  Year   Time  Pace  Sex\n",
      "34509  26270    0  2464  2014  18543   707    0\n",
      "34510  26270    0  2898  2014  19983   762    0\n",
      "34511  26270    0  2877  2014  19892   759    0\n",
      "34512  26270    0  2186  2014  17765   678    0\n",
      "          Id  Age  Rank  Year   Time  Pace  Sex\n",
      "34509  26270    0  2464  2014  18543   707    0\n",
      "34510  26270    0  2898  2014  19983   762    0\n",
      "34511  26270    0  2877  2014  19892   759    0\n",
      "34512  26270    0  2186  2014  17765   678    0\n",
      "          Id  Age  Rank  Year   Time  Pace  Sex\n",
      "34509  26270    0  2464  2014  18543   707    0\n",
      "34510  26270    0  2898  2014  19983   762    0\n",
      "34511  26270    0  2877  2014  19892   759    0\n",
      "34512  26270    0  2186  2014  17765   678    0\n",
      "          Id  Age  Rank  Year   Time  Pace  Sex\n",
      "34509  26270    0  2464  2014  18543   707    0\n",
      "34510  26270    0  2898  2014  19983   762    0\n",
      "34511  26270    0  2877  2014  19892   759    0\n",
      "34512  26270    0  2186  2014  17765   678    0\n"
     ]
    }
   ],
   "source": [
    "for n in runnerId:\n",
    "    print data[data['Id'] == n]"
   ]
  },
  {
   "cell_type": "markdown",
   "metadata": {},
   "source": [
    "The following runner id's represent instances where the age is unknown, but the id only appears once, therefore age cannot be corrected: [16673,16954,17902,18202,22942]. To deal with these, the unknown age of the id was set to the average age of all runners who ranked within a range of +/- 50 of the runner in that particular year."
   ]
  },
  {
   "cell_type": "code",
   "execution_count": 5,
   "metadata": {
    "collapsed": false
   },
   "outputs": [],
   "source": [
    "def correctSingleInstanceAge(runnerId,data):\n",
    "    rank = int(data[data['Id'] == runnerId]['Rank'])\n",
    "    year = int(data[data['Id'] == runnerId]['Year'])\n",
    "    rangeOfRunners = data[(data['Rank']>rank-50) & (data['Rank']<rank+50)& (data['Year'] == year)]\n",
    "    avgAge = rangeOfRunners['Age'].sum()/rangeOfRunners['Age'].size\n",
    "\n",
    "    index = data[data['Id']==runnerId].index\n",
    "    data.set_value(index, 'Age', avgAge)\n",
    "    return\n"
   ]
  },
  {
   "cell_type": "code",
   "execution_count": 6,
   "metadata": {
    "collapsed": false
   },
   "outputs": [],
   "source": [
    "ageCorrectionRunnerIds = [16673,16954,17902,18202,22942]\n",
    "for n in ageCorrectionRunnerIds:\n",
    "    correctSingleInstanceAge(n,data)"
   ]
  },
  {
   "cell_type": "markdown",
   "metadata": {},
   "source": [
    "Runner id's [23714,26270] represent unknown identities, despite clearly being different people that ran in the same year. This represents 6 people in 2013 and 4 people in 2014."
   ]
  },
  {
   "cell_type": "code",
   "execution_count": 7,
   "metadata": {
    "collapsed": false
   },
   "outputs": [
    {
     "name": "stdout",
     "output_type": "stream",
     "text": [
      "      Id  Age  Rank  Year   Time  Pace  Sex\n",
      "489  308    0  1357  2014  15975   609    0\n",
      "488  308   45  1204  2016  15137   578    0\n",
      "        Id  Age  Rank  Year   Time  Pace  Sex\n",
      "2050  1229   44  1566  2005  19757   754    1\n",
      "2047  1229   50  2208  2006  21090   804    1\n",
      "2044  1229   46  2054  2007  19896   759    1\n",
      "2042  1229   47  2414  2008  20344   776    1\n",
      "2041  1229   48  2717  2009  22803   870    1\n",
      "2049  1229   49  2811  2010  23191   885    1\n",
      "2046  1229    0  3332  2011  20990   801    1\n",
      "2048  1229   50  3482  2011  22896   873    1\n",
      "2045  1229   51  3870  2012  23302   889    1\n",
      "2043  1229   53  3194  2014  21215   809    1\n",
      "2052  1229   50  2748  2015  25435   970    1\n",
      "2051  1229   55  2783  2016  20941   800    1\n",
      "         Id  Age  Rank  Year   Time  Pace  Sex\n",
      "10746  6491   42    84  2005  11596   442    1\n",
      "10743  6491   43   217  2006  12496   476    1\n",
      "10745  6491    0   264  2012  12452   475    1\n",
      "10744  6491   50   396  2015  13172   502    1\n",
      "         Id  Age  Rank  Year   Time  Pace  Sex\n",
      "13065  8250    0   282  2006  12790   488    1\n",
      "13066  8250   45   196  2007  12790   488    1\n",
      "13067  8250   46   278  2008  12690   484    1\n",
      "13064  8250   47   501  2009  13384   510    1\n",
      "          Id  Age  Rank  Year   Time  Pace  Sex\n",
      "24232  17070   30  1589  2010  16739   638    1\n",
      "24231  17070    0  2041  2011  16397   625    1\n"
     ]
    }
   ],
   "source": [
    "zeroAge = data[(data['Age'] == 0)&(data['Id'] != 26270) &(data['Id'] != 23714) ].index.tolist()\n",
    "runnerId = [data.iloc[x]['Id'] for x in zeroAge]\n",
    "for i in runnerId:\n",
    "    print data[data['Id'] == i].sort_values(by='Year')"
   ]
  },
  {
   "cell_type": "markdown",
   "metadata": {},
   "source": [
    "For the remaining runner Ids, the participant ran in at least one other year where the age information is recorded. By taking the difference in the years, this offset is added to the recorded age."
   ]
  },
  {
   "cell_type": "code",
   "execution_count": 8,
   "metadata": {
    "collapsed": true
   },
   "outputs": [],
   "source": [
    "def offsetAge(idRecorded,idError,data):\n",
    "    ageRecorded = data.loc[idRecorded]['Age']\n",
    "    yearRecorded = data.loc[idRecorded]['Year']\n",
    "    yearError = data.loc[idError]['Year']\n",
    "    offset = yearError - yearRecorded\n",
    "    data.set_value(idError, 'Age', ageRecorded+offset)\n",
    "    return"
   ]
  },
  {
   "cell_type": "code",
   "execution_count": 9,
   "metadata": {
    "collapsed": false
   },
   "outputs": [],
   "source": [
    "offsetAge(488,489,data)\n",
    "offsetAge(2049,2046,data)\n",
    "offsetAge(10743,10745,data)\n",
    "offsetAge(13066,13065,data)\n",
    "offsetAge(24232,24231,data)"
   ]
  },
  {
   "cell_type": "code",
   "execution_count": 10,
   "metadata": {
    "collapsed": false
   },
   "outputs": [
    {
     "data": {
      "text/html": [
       "<div>\n",
       "<table border=\"1\" class=\"dataframe\">\n",
       "  <thead>\n",
       "    <tr style=\"text-align: right;\">\n",
       "      <th></th>\n",
       "      <th>Id</th>\n",
       "      <th>Age</th>\n",
       "      <th>Rank</th>\n",
       "      <th>Year</th>\n",
       "      <th>Time</th>\n",
       "      <th>Pace</th>\n",
       "      <th>Sex</th>\n",
       "    </tr>\n",
       "  </thead>\n",
       "  <tbody>\n",
       "  </tbody>\n",
       "</table>\n",
       "</div>"
      ],
      "text/plain": [
       "Empty DataFrame\n",
       "Columns: [Id, Age, Rank, Year, Time, Pace, Sex]\n",
       "Index: []"
      ]
     },
     "execution_count": 10,
     "metadata": {},
     "output_type": "execute_result"
    }
   ],
   "source": [
    "data[(data['Id'] != 23714) & (data['Id'] != 26270) & (data['Age']==0)]"
   ]
  },
  {
   "cell_type": "markdown",
   "metadata": {},
   "source": [
    "## Smallest Age"
   ]
  },
  {
   "cell_type": "code",
   "execution_count": 11,
   "metadata": {
    "collapsed": false
   },
   "outputs": [
    {
     "data": {
      "text/plain": [
       "9"
      ]
     },
     "execution_count": 11,
     "metadata": {},
     "output_type": "execute_result"
    }
   ],
   "source": [
    "data[(data['Id'] != 23714) & (data['Id'] != 26270)]['Age'].min()"
   ]
  },
  {
   "cell_type": "code",
   "execution_count": 12,
   "metadata": {
    "collapsed": false
   },
   "outputs": [
    {
     "data": {
      "text/html": [
       "<div>\n",
       "<table border=\"1\" class=\"dataframe\">\n",
       "  <thead>\n",
       "    <tr style=\"text-align: right;\">\n",
       "      <th></th>\n",
       "      <th>Id</th>\n",
       "      <th>Age</th>\n",
       "      <th>Rank</th>\n",
       "      <th>Year</th>\n",
       "      <th>Time</th>\n",
       "      <th>Pace</th>\n",
       "      <th>Sex</th>\n",
       "    </tr>\n",
       "  </thead>\n",
       "  <tbody>\n",
       "    <tr>\n",
       "      <th>31786</th>\n",
       "      <td>23689</td>\n",
       "      <td>9</td>\n",
       "      <td>2339</td>\n",
       "      <td>2013</td>\n",
       "      <td>6994</td>\n",
       "      <td>533</td>\n",
       "      <td>1</td>\n",
       "    </tr>\n",
       "  </tbody>\n",
       "</table>\n",
       "</div>"
      ],
      "text/plain": [
       "          Id  Age  Rank  Year  Time  Pace  Sex\n",
       "31786  23689    9  2339  2013  6994   533    1"
      ]
     },
     "execution_count": 12,
     "metadata": {},
     "output_type": "execute_result"
    }
   ],
   "source": [
    "data[data['Age']==9]"
   ]
  },
  {
   "cell_type": "code",
   "execution_count": 13,
   "metadata": {
    "collapsed": false
   },
   "outputs": [
    {
     "data": {
      "text/html": [
       "<div>\n",
       "<table border=\"1\" class=\"dataframe\">\n",
       "  <thead>\n",
       "    <tr style=\"text-align: right;\">\n",
       "      <th></th>\n",
       "      <th>Id</th>\n",
       "      <th>Age</th>\n",
       "      <th>Rank</th>\n",
       "      <th>Year</th>\n",
       "      <th>Time</th>\n",
       "      <th>Pace</th>\n",
       "      <th>Sex</th>\n",
       "    </tr>\n",
       "  </thead>\n",
       "  <tbody>\n",
       "    <tr>\n",
       "      <th>31786</th>\n",
       "      <td>23689</td>\n",
       "      <td>9</td>\n",
       "      <td>2339</td>\n",
       "      <td>2013</td>\n",
       "      <td>6994</td>\n",
       "      <td>533</td>\n",
       "      <td>1</td>\n",
       "    </tr>\n",
       "    <tr>\n",
       "      <th>31787</th>\n",
       "      <td>23689</td>\n",
       "      <td>45</td>\n",
       "      <td>2339</td>\n",
       "      <td>2013</td>\n",
       "      <td>6994</td>\n",
       "      <td>533</td>\n",
       "      <td>1</td>\n",
       "    </tr>\n",
       "  </tbody>\n",
       "</table>\n",
       "</div>"
      ],
      "text/plain": [
       "          Id  Age  Rank  Year  Time  Pace  Sex\n",
       "31786  23689    9  2339  2013  6994   533    1\n",
       "31787  23689   45  2339  2013  6994   533    1"
      ]
     },
     "execution_count": 13,
     "metadata": {},
     "output_type": "execute_result"
    }
   ],
   "source": [
    "data[data['Id']==23689]"
   ]
  },
  {
   "cell_type": "markdown",
   "metadata": {},
   "source": [
    "Participants ran in the same year with the same id/time/pace/sex. Id 31786 can be perceived as an error and eliminated."
   ]
  },
  {
   "cell_type": "code",
   "execution_count": 14,
   "metadata": {
    "collapsed": false
   },
   "outputs": [],
   "source": [
    "data = data.drop([31786])"
   ]
  },
  {
   "cell_type": "code",
   "execution_count": 15,
   "metadata": {
    "collapsed": false
   },
   "outputs": [
    {
     "data": {
      "text/plain": [
       "10"
      ]
     },
     "execution_count": 15,
     "metadata": {},
     "output_type": "execute_result"
    }
   ],
   "source": [
    "data[(data['Id'] != 23714) & (data['Id'] != 26270)]['Age'].min()"
   ]
  },
  {
   "cell_type": "markdown",
   "metadata": {},
   "source": [
    "# Minimum age of Miami Marathon is 11. Check outliers"
   ]
  },
  {
   "cell_type": "markdown",
   "metadata": {},
   "source": [
    "For the rows with age == 10, these runners do not run in any other years. Simply remove these data points and consider them as outliers. "
   ]
  },
  {
   "cell_type": "code",
   "execution_count": 16,
   "metadata": {
    "collapsed": false
   },
   "outputs": [],
   "source": [
    "ageoutliers = data[data['Age']==10].index.tolist()"
   ]
  },
  {
   "cell_type": "code",
   "execution_count": 17,
   "metadata": {
    "collapsed": false
   },
   "outputs": [
    {
     "name": "stdout",
     "output_type": "stream",
     "text": [
      "         Id  Age  Rank  Year   Time  Pace  Sex\n",
      "12096  7493   10   817  2006  14788   564    1\n",
      "          Id  Age  Rank  Year   Time  Pace  Sex\n",
      "24513  17305   10   500  2010  13841   528    1\n"
     ]
    }
   ],
   "source": [
    "ageRunnerID = []\n",
    "for ageID in ageoutliers:\n",
    "    ageRunnerID.append(data.loc[ageID]['Id'])\n",
    "\n",
    "for agerunnerid in ageRunnerID:\n",
    "    print data[data['Id']==agerunnerid]\n",
    "\n",
    "for ageID in ageoutliers:\n",
    "    data = data.drop(ageID)"
   ]
  },
  {
   "cell_type": "markdown",
   "metadata": {},
   "source": [
    "## Age distribution"
   ]
  },
  {
   "cell_type": "code",
   "execution_count": 18,
   "metadata": {
    "collapsed": false
   },
   "outputs": [
    {
     "data": {
      "text/plain": [
       "Counter({0: 10,\n",
       "         12: 3,\n",
       "         13: 3,\n",
       "         14: 4,\n",
       "         15: 77,\n",
       "         16: 61,\n",
       "         17: 92,\n",
       "         18: 91,\n",
       "         19: 109,\n",
       "         20: 409,\n",
       "         21: 252,\n",
       "         22: 324,\n",
       "         23: 456,\n",
       "         24: 608,\n",
       "         25: 1373,\n",
       "         26: 771,\n",
       "         27: 779,\n",
       "         28: 906,\n",
       "         29: 1026,\n",
       "         30: 1883,\n",
       "         31: 1109,\n",
       "         32: 1108,\n",
       "         33: 1125,\n",
       "         34: 1159,\n",
       "         35: 2278,\n",
       "         36: 1233,\n",
       "         37: 1203,\n",
       "         38: 1214,\n",
       "         39: 1344,\n",
       "         40: 2422,\n",
       "         41: 1166,\n",
       "         42: 1170,\n",
       "         43: 1085,\n",
       "         44: 1054,\n",
       "         45: 1791,\n",
       "         46: 945,\n",
       "         47: 796,\n",
       "         48: 775,\n",
       "         49: 730,\n",
       "         50: 1272,\n",
       "         51: 558,\n",
       "         52: 505,\n",
       "         53: 462,\n",
       "         54: 365,\n",
       "         55: 593,\n",
       "         56: 259,\n",
       "         57: 263,\n",
       "         58: 230,\n",
       "         59: 204,\n",
       "         60: 295,\n",
       "         61: 141,\n",
       "         62: 138,\n",
       "         63: 106,\n",
       "         64: 83,\n",
       "         65: 95,\n",
       "         66: 47,\n",
       "         67: 40,\n",
       "         68: 32,\n",
       "         69: 24,\n",
       "         70: 47,\n",
       "         71: 21,\n",
       "         72: 15,\n",
       "         73: 16,\n",
       "         74: 10,\n",
       "         75: 16,\n",
       "         76: 3,\n",
       "         77: 5,\n",
       "         78: 2,\n",
       "         79: 2,\n",
       "         80: 1,\n",
       "         81: 3,\n",
       "         82: 1,\n",
       "         84: 1,\n",
       "         98: 2})"
      ]
     },
     "execution_count": 18,
     "metadata": {},
     "output_type": "execute_result"
    }
   ],
   "source": [
    "ages = data['Age']\n",
    "ageCount = Counter(ages)\n",
    "ageCount"
   ]
  },
  {
   "cell_type": "code",
   "execution_count": 19,
   "metadata": {
    "collapsed": false
   },
   "outputs": [
    {
     "name": "stdout",
     "output_type": "stream",
     "text": [
      "      Id  Age  Rank  Year   Time  Pace  Sex\n",
      "457  287   20  2932  2016  22658   865    1\n",
      "458  287   15  2011  2015  17820   680    1\n",
      "        Id  Age  Rank  Year   Time  Pace  Sex\n",
      "1759  1066   15  1409  2015  15926   607    1\n",
      "1760  1066   15  2467  2016  19108   730    1\n",
      "        Id  Age  Rank  Year   Time  Pace  Sex\n",
      "1759  1066   15  1409  2015  15926   607    1\n",
      "1760  1066   15  2467  2016  19108   730    1\n",
      "        Id  Age  Rank  Year   Time  Pace  Sex\n",
      "2831  1703   15  2324  2015  19430   741    1\n",
      "2832  1703   40   505  2010  13855   528    1\n",
      "2833  1703   35   987  2016  14534   555    1\n",
      "2834  1703   18  2967  2014  20175   770    1\n",
      "        Id  Age  Rank  Year   Time  Pace  Sex\n",
      "3143  1918   40  2193  2015  18780   716    0\n",
      "3144  1918   15  2517  2016  19324   738    0\n",
      "          Id  Age  Rank  Year   Time  Pace  Sex\n",
      "19494  13321   15  1925  2010  17646   673    1\n",
      "19495  13321   16  2433  2011  17275   659    1\n",
      "19496  13321   14  2555  2009  20692   789    1\n",
      "          Id  Age  Rank  Year   Time  Pace  Sex\n",
      "23660  16596   46  2165  2012  16704   637    1\n",
      "23661  16596   15    58  2015  11253   429    1\n",
      "23662  16596   41   714  2013   6171   471    1\n",
      "23663  16596   48  2489  2014  18618   710    1\n",
      "23664  16596   45  2225  2011  16794   641    1\n",
      "23665  16596   44  2211  2010  18655   712    1\n",
      "          Id  Age  Rank  Year   Time  Pace  Sex\n",
      "33296  25113   17   406  2013   5875   448    1\n",
      "33297  25113   15   355  2015  13073   498    1\n",
      "          Id  Age  Rank  Year   Time  Pace  Sex\n",
      "34355  26123   15  2332  2015  19492   743    1\n",
      "34356  26123   17  2703  2014  19331   737    1\n",
      "          Id  Age  Rank  Year   Time  Pace  Sex\n",
      "34914  26647   15  1597  2015  16395   625    1\n",
      "34915  26647   15  2483  2014  18597   709    1\n",
      "          Id  Age  Rank  Year   Time  Pace  Sex\n",
      "34914  26647   15  1597  2015  16395   625    1\n",
      "34915  26647   15  2483  2014  18597   709    1\n",
      "          Id  Age  Rank  Year   Time  Pace  Sex\n",
      "35118  26840   15  1508  2015  16189   617    0\n",
      "35119  26840   16  2292  2014  18018   687    0\n",
      "          Id  Age  Rank  Year   Time  Pace  Sex\n",
      "35512  27204   15  1165  2015  15281   583    1\n",
      "35513  27204   16  3320  2014  21916   836    1\n"
     ]
    }
   ],
   "source": [
    "ageoutliers = data[data['Age']==15].index.tolist()\n",
    "ageRunnerID = []\n",
    "for ageID in ageoutliers:\n",
    "    ageRunnerID.append(data.loc[ageID]['Id'])\n",
    "\n",
    "for agerunnerid in ageRunnerID:\n",
    "    if(data[data['Id']==agerunnerid]['Age'].size>1):\n",
    "        print data[data['Id']==agerunnerid]\n",
    "\n",
    "#for ageID in ageoutliers:\n",
    "#    data = data.drop(ageID)"
   ]
  },
  {
   "cell_type": "markdown",
   "metadata": {},
   "source": [
    "# *** NEED TO FIX AGES ?? ***"
   ]
  },
  {
   "cell_type": "markdown",
   "metadata": {},
   "source": [
    "## Force Ages to increments of 5"
   ]
  },
  {
   "cell_type": "code",
   "execution_count": 20,
   "metadata": {
    "collapsed": false
   },
   "outputs": [],
   "source": [
    "for i in range (data['Age'].size):\n",
    "    data.iloc[i]['Age'] = data.iloc[i]['Age'] - data.iloc[i]['Age']%5"
   ]
  },
  {
   "cell_type": "code",
   "execution_count": 21,
   "metadata": {
    "collapsed": false
   },
   "outputs": [
    {
     "data": {
      "text/plain": [
       "10"
      ]
     },
     "execution_count": 21,
     "metadata": {},
     "output_type": "execute_result"
    }
   ],
   "source": [
    "data[(data['Id'] != 23714) & (data['Id'] != 26270)]['Age'].min()"
   ]
  },
  {
   "cell_type": "markdown",
   "metadata": {},
   "source": [
    "## Add weather data\n",
    "Temperature in deg. C at 6:53 or 6:59 AM"
   ]
  },
  {
   "cell_type": "code",
   "execution_count": 22,
   "metadata": {
    "collapsed": false
   },
   "outputs": [],
   "source": [
    "temp = {\n",
    "    '2003':10.6,\n",
    "    '2004':20.6,\n",
    "    '2005':18.9,\n",
    "    '2006':21.1,\n",
    "    '2007':22.2,\n",
    "    '2008':17.8,\n",
    "    '2009':14.4,\n",
    "    '2010':21.7,\n",
    "    '2011':11.1,\n",
    "    '2012':20.6,\n",
    "    '2013':19.4,\n",
    "    '2014':22.8,\n",
    "    '2015':11.7,\n",
    "    '2016':12.2\n",
    "}"
   ]
  },
  {
   "cell_type": "code",
   "execution_count": 23,
   "metadata": {
    "collapsed": false
   },
   "outputs": [],
   "source": [
    "data['Temp'] = 0."
   ]
  },
  {
   "cell_type": "code",
   "execution_count": 24,
   "metadata": {
    "collapsed": false
   },
   "outputs": [],
   "source": [
    "for i in data.index.tolist():\n",
    "    year = str(int(data.loc[i]['Year']))\n",
    "    data.set_value(i,'Temp',temp[year])"
   ]
  },
  {
   "cell_type": "markdown",
   "metadata": {},
   "source": [
    "## 2013 Projections using Riegel's formula\n",
    "http://cs229.stanford.edu/proj2015/247_report.pdf"
   ]
  },
  {
   "cell_type": "code",
   "execution_count": 25,
   "metadata": {
    "collapsed": true
   },
   "outputs": [],
   "source": [
    "def fullMarathonTime(halfMarathonTime,data):\n",
    "    return np.round(halfMarathonTime*((26.219/13.095)**1.06))"
   ]
  },
  {
   "cell_type": "code",
   "execution_count": 26,
   "metadata": {
    "collapsed": false
   },
   "outputs": [],
   "source": [
    "halfMarathonId = data[data['Year']==2013].index.tolist()\n",
    "data['halfMarathonTime'] = np.NaN"
   ]
  },
  {
   "cell_type": "markdown",
   "metadata": {},
   "source": [
    "#### Recalculate Pace of 2013 rows using Full Marathon Time"
   ]
  },
  {
   "cell_type": "code",
   "execution_count": 27,
   "metadata": {
    "collapsed": false
   },
   "outputs": [],
   "source": [
    "for i in halfMarathonId:\n",
    "    halftime = data.loc[i]['Time']\n",
    "    data.set_value(i,'halfMarathonTime',halftime)\n",
    "    fulltime = int(fullMarathonTime(halftime,data))\n",
    "    data.set_value(i,'Time',fulltime)\n",
    "\n",
    "    data.set_value(i,'Pace',fulltime/26.219)"
   ]
  },
  {
   "cell_type": "markdown",
   "metadata": {},
   "source": [
    "## Remove instances of same ID, same year, multiple records\n",
    "errRunnerIds1 for instances where >2 rows in a given year correspond to the same runner\n",
    "errRunnerIds2 for instances where 2 rows in a given year correspond to the same runner"
   ]
  },
  {
   "cell_type": "code",
   "execution_count": 28,
   "metadata": {
    "collapsed": false
   },
   "outputs": [],
   "source": [
    "runnerIds = set(data['Id'].tolist())\n",
    "\n",
    "errRunnerIds1 = []\n",
    "errRunnerIds2 = []\n",
    "for rid in runnerIds:\n",
    "    runnerData = data[data['Id']==rid]\n",
    "    \n",
    "    if(runnerData['Age'].size > 1):\n",
    "        yearCount = Counter(runnerData['Year'])\n",
    "        #print yearCount\n",
    "        if max(yearCount.values()) > 2:\n",
    "            errRunnerIds1.append(rid)\n",
    "        elif max(yearCount.values()) == 2:\n",
    "            errRunnerIds2.append(rid)"
   ]
  },
  {
   "cell_type": "code",
   "execution_count": 30,
   "metadata": {
    "collapsed": false
   },
   "outputs": [
    {
     "data": {
      "text/plain": [
       "[3327, 6291, 10828, 23068, 23714, 23832, 24624, 26270]"
      ]
     },
     "execution_count": 30,
     "metadata": {},
     "output_type": "execute_result"
    }
   ],
   "source": [
    "errRunnerIds1"
   ]
  },
  {
   "cell_type": "code",
   "execution_count": 31,
   "metadata": {
    "collapsed": false
   },
   "outputs": [
    {
     "name": "stdout",
     "output_type": "stream",
     "text": [
      "         Id  Age  Rank  Year   Time  Pace  Sex  Temp\n",
      "10482  6291   40   765  2005  15112   576    1  18.9\n",
      "10484  6291   60   866  2005  15522   592    1  18.9\n",
      "10486  6291   35   139  2005  12229   466    1  18.9\n",
      "10483  6291   40   489  2006  13662   521    1  21.1\n",
      "10485  6291   40  2707  2013  14852   566    1  19.4\n",
      "          Id  Age  Rank  Year   Time  Pace  Sex  Temp\n",
      "16383  10828   25  2105  2007  20192   770    1  22.2\n",
      "16379  10828   30  1423  2012  15310   584    1  20.6\n",
      "16382  10828   40  3178  2012  19213   733    1  20.6\n",
      "16385  10828   35  1785  2012  15971   609    1  20.6\n",
      "16380  10828   30  2365  2013  14620   557    1  19.4\n",
      "16381  10828   40   234  2013  11773   449    1  19.4\n",
      "16384  10828   25  3048  2013  15058   574    1  19.4\n",
      "          Id  Age  Rank  Year   Time  Pace  Sex  Temp\n",
      "31128  23068   45  2851  2013  14946   570    1  19.4\n",
      "31129  23068   40  1802  2013  14161   540    1  19.4\n",
      "31130  23068   35  1649  2013  14013   534    1  19.4\n",
      "31127  23068   40  2591  2014  18978   724    1  22.8\n",
      "          Id  Age  Rank  Year   Time  Pace  Sex  Temp\n",
      "31939  23832   20   523  2013  12535   478    1  19.4\n",
      "31940  23832   35   469  2013  12401   472    1  19.4\n",
      "31941  23832   35   157  2013  11401   434    1  19.4\n",
      "          Id  Age  Rank  Year   Time  Pace  Sex  Temp\n",
      "32779  24624   55  1183  2013  13553   516    1  19.4\n",
      "32780  24624   40  1598  2013  13948   531    1  19.4\n",
      "32781  24624   35  3473  2013  15317   584    1  19.4\n",
      "32778  24624   55  2066  2015  17981   686    1  11.7\n"
     ]
    }
   ],
   "source": [
    "for err in errRunnerIds1:\n",
    "    if err not in [3327,23714,26270]:\n",
    "        print data[data['Id']==err].ix[:, data.columns != 'halfMarathonTime'].sort_values(by='Year')"
   ]
  },
  {
   "cell_type": "markdown",
   "metadata": {},
   "source": [
    "# *** MUST CORRECT ***\n",
    "## *** errRunnerIds1 contains 8 id's, which each have >2 repetitions per id in a given year. The id's [3327,23714,26270] are all for 'private' or 'unknown' runners, therefore these can be disregarded. Still need to write a script to correct the other 5***"
   ]
  },
  {
   "cell_type": "code",
   "execution_count": 29,
   "metadata": {
    "collapsed": false
   },
   "outputs": [
    {
     "data": {
      "text/plain": [
       "101"
      ]
     },
     "execution_count": 29,
     "metadata": {},
     "output_type": "execute_result"
    }
   ],
   "source": [
    "len(errRunnerIds2)"
   ]
  },
  {
   "cell_type": "code",
   "execution_count": 30,
   "metadata": {
    "collapsed": false
   },
   "outputs": [
    {
     "name": "stdout",
     "output_type": "stream",
     "text": [
      "    Id  Age  Rank  Year   Time  Pace  Sex  Temp\n",
      "26  12   20   954  2016  14443   552    0  12.2\n",
      "27  12   30   588  2016  13575   519    0  12.2\n",
      "        Id  Age  Rank  Year   Time  Pace  Sex  Temp\n",
      "2372  1436   25  2777  2016  20907   798    1  12.2\n",
      "2373  1436   30  2403  2016  18883   721    1  12.2\n",
      "         Id  Age  Rank  Year   Time  Pace  Sex  Temp\n",
      "10059  5985   20  1430  2005  18338   699    1  18.9\n",
      "10060  5985   45  1194  2005  16965   647    1  18.9\n",
      "         Id  Age  Rank  Year   Time  Pace  Sex  Temp\n",
      "11886  7319   40  1026  2006  15510   591    0  21.1\n",
      "11887  7319   40  1030  2006  15524   592    0  21.1\n",
      "         Id  Age  Rank  Year   Time  Pace  Sex  Temp\n",
      "13483  8588   20  1786  2006  18341   700    0  21.1\n",
      "13484  8588   35   680  2006  14319   546    1  21.1\n",
      "         Id  Age  Rank  Year   Time  Pace  Sex  Temp\n",
      "14401  9308   15  1079  2007  16024   611    1  22.2\n",
      "14402  9308   60  1928  2007  19176   731    1  22.2\n",
      "         Id  Age  Rank  Year   Time  Pace  Sex  Temp\n",
      "14538  9421   55    68  2007  11859   452    1  22.2\n",
      "14539  9421   25   822  2007  15257   582    1  22.2\n",
      "          Id  Age  Rank  Year   Time  Pace  Sex  Temp\n",
      "15539  10183   30  1149  2007  16227   619    1  22.2\n",
      "15540  10183   45  1447  2007  17129   653    1  22.2\n",
      "          Id  Age  Rank  Year   Time  Pace  Sex  Temp\n",
      "15792  10383   30  2162  2007  20495   782    1  22.2\n",
      "15793  10383   35  1883  2007  18976   724    1  22.2\n",
      "          Id  Age  Rank  Year   Time  Pace  Sex  Temp\n",
      "16924  11265   30  2144  2008  18672   712    1  17.8\n",
      "16925  11265   35  2142  2008  18661   712    1  17.8\n",
      "          Id  Age  Rank  Year   Time  Pace  Sex  Temp\n",
      "19305  13180   50  1113  2008  15303   584    1  17.8\n",
      "19306  13180   35   341  2008  12981   495    1  17.8\n",
      "          Id  Age  Rank  Year   Time  Pace  Sex  Temp\n",
      "20702  14252   20  1605  2009  16524   630    1  14.4\n",
      "20703  14252   50   881  2009  14455   551    1  14.4\n",
      "          Id  Age  Rank  Year   Time  Pace  Sex  Temp\n",
      "22748  15866   50  1189  2010  15771   601    1  21.7\n",
      "22749  15866   55   813  2010  14717   561    1  21.7\n",
      "          Id  Age  Rank  Year   Time  Pace  Sex  Temp\n",
      "23596  16542   20  1738  2010  17120   653    0  21.7\n",
      "23597  16542   20  2060  2010  18024   687    0  21.7\n",
      "          Id  Age  Rank  Year   Time  Pace  Sex  Temp\n",
      "25076  17759   45  2172  2011  16697   637    1  11.1\n",
      "25077  17759   30  2381  2011  17136   654    1  11.1\n",
      "          Id  Age  Rank  Year   Time  Pace  Sex  Temp\n",
      "25630  18230   35  1183  2011  14503   553    1  11.1\n",
      "25631  18230   35  2369  2011  17115   653    1  11.1\n",
      "          Id  Age  Rank  Year   Time  Pace  Sex  Temp\n",
      "27227  19552   40   762  2011  13702   522    1  11.1\n",
      "27228  19552   45  2783  2011  18274   697    1  11.1\n",
      "          Id  Age  Rank  Year   Time  Pace  Sex  Temp\n",
      "28684  20830   50   659  2012  13730   524    1  20.6\n",
      "28685  20830   45  1812  2012  16011   611    1  20.6\n",
      "          Id  Age  Rank  Year   Time  Pace  Sex  Temp\n",
      "31509  23425   35   780  2013  12986   495    1  19.4\n",
      "31510  23425   40  2303  2013  14572   555    1  19.4\n",
      "          Id  Age  Rank  Year   Time  Pace  Sex  Temp\n",
      "31917  23811   35   176  2013  11545   440    1  19.4\n",
      "31918  23811   40  3044  2013  15056   574    1  19.4\n",
      "          Id  Age  Rank  Year   Time  Pace  Sex  Temp\n",
      "32242  24112   35  1862  2013  14215   542    1  19.4\n",
      "32243  24112   15  3560  2013  15369   586    1  19.4\n",
      "          Id  Age  Rank  Year   Time  Pace  Sex  Temp\n",
      "32864  24706   30  2296  2013  14564   555    1  19.4\n",
      "32865  24706   25  1217  2013  13589   518    1  19.4\n",
      "          Id  Age  Rank  Year   Time  Pace  Sex  Temp\n",
      "35149  26867   45   126  2014  12206   465    1  22.8\n",
      "35150  26867   40   282  2014  13020   496    1  22.8\n",
      "          Id  Age  Rank  Year   Time  Pace  Sex  Temp\n",
      "37098  28713   50  1635  2015  16507   630    1  11.7\n",
      "37099  28713   30  1294  2015  15644   597    1  11.7\n"
     ]
    },
    {
     "data": {
      "text/plain": [
       "48"
      ]
     },
     "execution_count": 30,
     "metadata": {},
     "output_type": "execute_result"
    }
   ],
   "source": [
    "count = 0\n",
    "for err in errRunnerIds2:\n",
    "    if (data[data['Id']==err]['Age'].size== 2):\n",
    "        count += 2\n",
    "        print data[data['Id']==err].ix[:, data.columns != 'halfMarathonTime']\n",
    "        data = data.drop(data[data['Id']==err].index)\n",
    "        errRunnerIds2.remove(err)\n",
    "count"
   ]
  },
  {
   "cell_type": "code",
   "execution_count": 31,
   "metadata": {
    "collapsed": false
   },
   "outputs": [
    {
     "data": {
      "text/plain": [
       "77"
      ]
     },
     "execution_count": 31,
     "metadata": {},
     "output_type": "execute_result"
    }
   ],
   "source": [
    "len(errRunnerIds2)"
   ]
  },
  {
   "cell_type": "code",
   "execution_count": 32,
   "metadata": {
    "collapsed": false
   },
   "outputs": [
    {
     "data": {
      "text/plain": [
       "[92,\n",
       " 195,\n",
       " 304,\n",
       " 347,\n",
       " 470,\n",
       " 584,\n",
       " 653,\n",
       " 929,\n",
       " 1007,\n",
       " 1075,\n",
       " 1168,\n",
       " 1203,\n",
       " 1207,\n",
       " 1229,\n",
       " 1302,\n",
       " 1338,\n",
       " 1470,\n",
       " 1531,\n",
       " 1582,\n",
       " 1666,\n",
       " 2293,\n",
       " 2642,\n",
       " 3391,\n",
       " 3503,\n",
       " 3655,\n",
       " 4142,\n",
       " 4196,\n",
       " 4835,\n",
       " 4937,\n",
       " 5123,\n",
       " 5210,\n",
       " 5315,\n",
       " 5585,\n",
       " 6099,\n",
       " 6857,\n",
       " 7109,\n",
       " 7289,\n",
       " 7506,\n",
       " 8174,\n",
       " 9294,\n",
       " 9370,\n",
       " 9721,\n",
       " 10236,\n",
       " 10638,\n",
       " 10888,\n",
       " 11916,\n",
       " 12244,\n",
       " 13104,\n",
       " 13850,\n",
       " 13944,\n",
       " 15610,\n",
       " 15872,\n",
       " 15970,\n",
       " 16803,\n",
       " 17190,\n",
       " 17499,\n",
       " 17817,\n",
       " 17857,\n",
       " 18403,\n",
       " 18709,\n",
       " 18716,\n",
       " 18740,\n",
       " 19479,\n",
       " 20471,\n",
       " 20754,\n",
       " 21700,\n",
       " 21839,\n",
       " 22059,\n",
       " 22729,\n",
       " 22902,\n",
       " 23632,\n",
       " 23917,\n",
       " 23942,\n",
       " 24205,\n",
       " 24253,\n",
       " 24854,\n",
       " 27165]"
      ]
     },
     "execution_count": 32,
     "metadata": {},
     "output_type": "execute_result"
    }
   ],
   "source": [
    "errRunnerIds2"
   ]
  },
  {
   "cell_type": "markdown",
   "metadata": {},
   "source": [
    "There are 24 instances where a given person ran strictly \"twice\" in the same year, and did not run in any other years. These 48 rows are deleted, since it cannot be concluded that one row is more reliable than another."
   ]
  },
  {
   "cell_type": "markdown",
   "metadata": {},
   "source": [
    "# *** MUST CORRECT errRunnerIds2***\n",
    "## *** There are still 77 id's that have (exactly) 2 of the same runner in the same year. These 77 id's also have data points in other years. These other data points can be used to decide which one of the two redundant rows is deleted. ***"
   ]
  },
  {
   "cell_type": "code",
   "execution_count": 35,
   "metadata": {
    "collapsed": false
   },
   "outputs": [
    {
     "name": "stdout",
     "output_type": "stream",
     "text": [
      "     Id  Age  Rank  Year   Time  Pace  Sex  Temp\n",
      "159  92   40  1612  2004  20299   774    1  20.6\n",
      "156  92   30  1786  2013  14144   539    1  19.4\n",
      "157  92   25  1731  2013  14086   537    1  19.4\n",
      "158  92   30  1567  2016  16147   617    1  12.2\n",
      "      Id  Age  Rank  Year   Time  Pace  Sex  Temp\n",
      "328  195   55  2796  2014  19626   749    1  22.8\n",
      "329  195   25  2796  2014  19626   749    1  22.8\n",
      "330  195   55  1487  2015  16144   616    1  11.7\n",
      "327  195   60  2865  2016  21776   832    1  12.2\n",
      "      Id  Age  Rank  Year   Time  Pace  Sex  Temp\n",
      "482  304   40  2199  2014  17793   679    1  22.8\n",
      "483  304   50  2993  2014  20265   773    1  22.8\n",
      "481  304   50  2707  2016  20341   777    1  12.2\n",
      "      Id  Age  Rank  Year   Time  Pace  Sex  Temp\n",
      "554  347   50   878  2007  15441   589    1  22.2\n",
      "561  347   50  1706  2007  18038   688    1  22.2\n",
      "556  347   50  1119  2010  15579   594    1  21.7\n",
      "559  347   30  3637  2013  15432   588    1  19.4\n",
      "558  347   40  1556  2014  16362   624    1  22.8\n",
      "560  347   40  1548  2015  16272   621    1  11.7\n",
      "555  347   40  1712  2016  16565   633    1  12.2\n",
      "557  347   35  1863  2016  16974   648    1  12.2\n",
      "      Id  Age  Rank  Year   Time  Pace  Sex  Temp\n",
      "769  470   30  2221  2008  19034   726    1  17.8\n",
      "768  470   30  2221  2010  18677   712    1  21.7\n",
      "773  470   30  2525  2011  17563   670    1  11.1\n",
      "771  470   35  3519  2012  20629   787    1  20.6\n",
      "770  470   45  3142  2013  15119   576    1  19.4\n",
      "772  470   35  2800  2016  21060   804    1  12.2\n",
      "774  470   40   910  2016  14347   548    1  12.2\n",
      "      Id  Age  Rank  Year   Time  Pace  Sex  Temp\n",
      "979  584   30   792  2013  13006   496    1  19.4\n",
      "980  584   35  2099  2013  14409   549    1  19.4\n",
      "978  584   30  1308  2016  15447   590    1  12.2\n",
      "       Id  Age  Rank  Year   Time  Pace  Sex  Temp\n",
      "1086  653   40   596  2013  12687   483    1  19.4\n",
      "1087  653   30    93  2013  10988   419    1  19.4\n",
      "1089  653   40   891  2015  14492   553    1  11.7\n",
      "1088  653   45   583  2016  13565   518    1  12.2\n",
      "       Id  Age  Rank  Year   Time  Pace  Sex  Temp\n",
      "1530  929   20  1146  2005  16729   638    1  18.9\n",
      "1528  929   40   198  2012  12125   462    1  20.6\n",
      "1529  929   65  3601  2012  21144   807    1  20.6\n",
      "1527  929   30  2195  2016  17975   687    1  12.2\n",
      "        Id  Age  Rank  Year   Time  Pace  Sex  Temp\n",
      "1661  1007   35   910  2006  15128   577    1  21.1\n",
      "1660  1007   35   808  2008  14338   547    1  17.8\n",
      "1657  1007   60  2347  2015  19588   747    1  11.7\n",
      "1658  1007   30   113  2015  11940   455    1  11.7\n",
      "1659  1007   65  2723  2016  20487   782    1  12.2\n",
      "        Id  Age  Rank  Year   Time  Pace  Sex  Temp\n",
      "1779  1075   45  1434  2011  15106   576    1  11.1\n",
      "1780  1075   25  1648  2011  15577   594    1  11.1\n",
      "1781  1075   45  1157  2012  14801   564    1  20.6\n",
      "1782  1075   50  1460  2016  15936   609    1  12.2\n",
      "        Id  Age  Rank  Year   Time  Pace  Sex  Temp\n",
      "1931  1168   40   135  2003  12029   459    1  10.6\n",
      "1933  1168   35   714  2003  15113   576    1  10.6\n",
      "1939  1168   45  1072  2004  16654   635    1  20.6\n",
      "1940  1168   30  2222  2008  19036   726    1  17.8\n",
      "1930  1168   35  1951  2009  17446   665    1  14.4\n",
      "1929  1168   35   844  2010  14844   566    1  21.7\n",
      "1934  1168   40  2000  2011  16314   622    1  11.1\n",
      "1935  1168   45   828  2011  13836   528    1  11.1\n",
      "1932  1168   45  1871  2012  16103   614    1  20.6\n",
      "1936  1168   35  3518  2012  20628   787    1  20.6\n",
      "1937  1168   40  1423  2013  13770   525    1  19.4\n",
      "1938  1168   35  1625  2016  16314   623    1  12.2\n",
      "        Id  Age  Rank  Year   Time  Pace  Sex  Temp\n",
      "2002  1203   50  2707  2010  21545   822    0  21.7\n",
      "2000  1203   50  3725  2012  21909   836    0  20.6\n",
      "2003  1203   55  2146  2014  17678   674    0  22.8\n",
      "2004  1203   50  3488  2014  23334   890    0  22.8\n",
      "2001  1203   55  2648  2015  22519   859    0  11.7\n",
      "2005  1203   55  2993  2016  23989   916    0  12.2\n",
      "        Id  Age  Rank  Year   Time  Pace  Sex  Temp\n",
      "2009  1207   45  1158  2006  15978   609    1  21.1\n",
      "2011  1207   45   567  2008  13740   524    1  17.8\n",
      "2013  1207   50  1833  2010  17392   663    1  21.7\n",
      "2014  1207   50   822  2010  14745   562    1  21.7\n",
      "2010  1207   50  3246  2012  19461   742    1  20.6\n",
      "2012  1207   45  2885  2016  21986   840    1  12.2\n",
      "        Id  Age  Rank  Year   Time  Pace  Sex  Temp\n",
      "2050  1229   40  1566  2005  19757   754    1  18.9\n",
      "2047  1229   50  2208  2006  21090   804    1  21.1\n",
      "2044  1229   45  2054  2007  19896   759    1  22.2\n",
      "2042  1229   45  2414  2008  20344   776    1  17.8\n",
      "2041  1229   45  2717  2009  22803   870    1  14.4\n",
      "2049  1229   45  2811  2010  23191   885    1  21.7\n",
      "2046  1229   50  3332  2011  20990   801    1  11.1\n",
      "2048  1229   50  3482  2011  22896   873    1  11.1\n",
      "2045  1229   50  3870  2012  23302   889    1  20.6\n",
      "2043  1229   50  3194  2014  21215   809    1  22.8\n",
      "2052  1229   50  2748  2015  25435   970    1  11.7\n",
      "2051  1229   55  2783  2016  20941   800    1  12.2\n",
      "        Id  Age  Rank  Year   Time  Pace  Sex  Temp\n",
      "2168  1302   40  2181  2013  14468   551    1  19.4\n",
      "2170  1302   55  3407  2013  15282   582    1  19.4\n",
      "2169  1302   30   215  2014  12688   484    1  22.8\n",
      "2171  1302   40  2213  2016  18020   688    1  12.2\n",
      "2172  1302   35  2499  2016  19251   735    1  12.2\n",
      "        Id  Age  Rank  Year   Time  Pace  Sex  Temp\n",
      "2226  1338   40  1759  2006  18167   693    1  21.1\n",
      "2222  1338   45  1938  2007  19220   733    1  22.2\n",
      "2223  1338   45  1908  2008  17685   675    1  17.8\n",
      "2220  1338   45  2070  2009  17919   683    1  14.4\n",
      "2221  1338   45  3030  2011  19157   731    1  11.1\n",
      "2228  1338   50  2665  2012  17849   681    1  20.6\n",
      "2224  1338   50  2769  2014  19556   746    1  22.8\n",
      "2225  1338   50  1617  2015  16467   628    1  11.7\n",
      "2219  1338   30   796  2016  14112   539    1  12.2\n",
      "2227  1338   50  2139  2016  17787   679    1  12.2\n",
      "        Id  Age  Rank  Year   Time  Pace  Sex  Temp\n",
      "2439  1470   35   688  2003  14951   570    1  10.6\n",
      "2437  1470   50  2332  2009  19211   733    1  14.4\n",
      "2438  1470   45  2001  2010  17867   681    1  21.7\n",
      "2441  1470   35    83  2010  11579   441    1  21.7\n",
      "2440  1470   40   977  2016  14508   554    1  12.2\n",
      "        Id  Age  Rank  Year   Time  Pace  Sex  Temp\n",
      "2553  1531   40   683  2008  14017   535    1  17.8\n",
      "2555  1531   25  1537  2008  16496   629    1  17.8\n",
      "2556  1531   40   925  2009  14599   557    1  14.4\n",
      "2554  1531   60  2971  2016  23460   896    1  12.2\n",
      "        Id  Age  Rank  Year   Time  Pace  Sex  Temp\n",
      "2620  1582   45  1720  2013  14077   536    1  19.4\n",
      "2621  1582   20   976  2013  13286   506    1  19.4\n",
      "2622  1582   50   194  2016  12180   465    1  12.2\n",
      "        Id  Age  Rank  Year   Time  Pace  Sex  Temp\n",
      "2782  1666   35  3086  2012  18964   723    1  20.6\n",
      "2778  1666   30   253  2014  12898   492    1  22.8\n",
      "2779  1666   40  2310  2014  18077   689    1  22.8\n",
      "2781  1666   40  1927  2015  17549   669    1  11.7\n",
      "2780  1666   40  1636  2016  16351   625    1  12.2\n",
      "        Id  Age  Rank  Year   Time  Pace  Sex  Temp\n",
      "3738  2293   35  3778  2013  15522   592    0  19.4\n",
      "3740  2293   30  1666  2013  14029   535    0  19.4\n",
      "3737  2293   25  1165  2014  15501   591    0  22.8\n",
      "3739  2293   25   923  2014  14920   569    0  22.8\n",
      "3741  2293   40  1180  2016  15082   576    0  12.2\n",
      "        Id  Age  Rank  Year   Time  Pace  Sex  Temp\n",
      "4300  2642   20   193  2012  12105   462    1  20.6\n",
      "4301  2642   45  1778  2012  15961   609    1  20.6\n",
      "4302  2642   40  1686  2016  16482   630    1  12.2\n",
      "        Id  Age  Rank  Year   Time  Pace  Sex  Temp\n",
      "5867  3391   40   556  2003  14316   546    1  10.6\n",
      "5869  3391   45   868  2004  15700   599    1  20.6\n",
      "5868  3391   45  1605  2006  17552   669    1  21.1\n",
      "5866  3391   45  1325  2007  16805   641    1  22.2\n",
      "5870  3391   45  1865  2007  18839   719    1  22.2\n",
      "        Id  Age  Rank  Year   Time  Pace  Sex  Temp\n",
      "6111  3503   55   706  2003  15036   573    1  10.6\n",
      "6106  3503   55   800  2004  15434   589    1  20.6\n",
      "6113  3503   60   686  2005  14773   563    1  18.9\n",
      "6109  3503   30  1460  2009  16130   615    1  14.4\n",
      "6114  3503   35  1498  2009  16226   619    1  14.4\n",
      "6115  3503   35  1906  2010  17598   671    1  21.7\n",
      "6108  3503   35  1415  2011  15069   575    1  11.1\n",
      "6112  3503   35  1487  2012  15426   588    1  20.6\n",
      "6110  3503   35  1490  2013  13839   527    1  19.4\n",
      "6107  3503   40  1350  2015  15795   602    1  11.7\n",
      "        Id  Age  Rank  Year   Time  Pace  Sex  Temp\n",
      "6368  3655   35   148  2003  12130   462    1  10.6\n",
      "6369  3655   45  1846  2013  14200   541    1  19.4\n",
      "6370  3655   45  2803  2013  14910   568    1  19.4\n",
      "        Id  Age  Rank  Year   Time  Pace  Sex  Temp\n",
      "7190  4142   35   121  2003  11917   454    1  10.6\n",
      "7193  4142   35    61  2004  11555   441    1  20.6\n",
      "7194  4142   20  1590  2004  20045   765    1  20.6\n",
      "7192  4142   20  1528  2005  19230   733    1  18.9\n",
      "7195  4142   35   201  2006  12422   474    1  21.1\n",
      "7191  4142   40  1122  2007  16157   616    1  22.2\n",
      "        Id  Age  Rank  Year   Time  Pace  Sex  Temp\n",
      "7301  4196   45   400  2003  13665   521    1  10.6\n",
      "7295  4196   25   340  2004  13655   521    1  20.6\n",
      "7296  4196   45  1381  2005  17988   686    1  18.9\n",
      "7298  4196   40   314  2005  13282   506    1  18.9\n",
      "7299  4196   45  1841  2007  18700   713    1  22.2\n",
      "7297  4196   45  1563  2013  13910   530    1  19.4\n",
      "7300  4196   45  3795  2013  15534   592    1  19.4\n",
      "        Id  Age  Rank  Year   Time  Pace  Sex  Temp\n",
      "8319  4835   50  1714  2004  21665   826    1  20.6\n",
      "8320  4835   50  1628  2004  20453   780    1  20.6\n",
      "8318  4835   20  2021  2007  19671   750    1  22.2\n",
      "8314  4835   30  1498  2008  16361   624    1  17.8\n",
      "8317  4835   30  1404  2008  16099   614    1  17.8\n",
      "8313  4835   30   376  2010  13439   512    1  21.7\n",
      "8321  4835   30  1256  2011  14664   559    1  11.1\n",
      "8315  4835   35  1561  2012  15558   593    1  20.6\n",
      "8316  4835   30  2520  2012  17483   667    1  20.6\n",
      "        Id  Age  Rank  Year   Time  Pace  Sex  Temp\n",
      "8476  4937   50   657  2004  14825   565    1  20.6\n",
      "8478  4937   25   499  2004  14259   544    1  20.6\n",
      "8477  4937   50  1246  2006  16266   620    1  21.1\n",
      "        Id  Age  Rank  Year   Time  Pace  Sex  Temp\n",
      "8750  5123   30   631  2004  14706   561    1  20.6\n",
      "8748  5123   45  1047  2005  16307   622    1  18.9\n",
      "8751  5123   45   234  2007  13079   499    1  22.2\n",
      "8747  5123   35  2262  2013  14537   554    1  19.4\n",
      "8749  5123   55  2933  2013  14992   571    1  19.4\n",
      "        Id  Age  Rank  Year   Time  Pace  Sex  Temp\n",
      "8873  5210   45  1317  2004  17728   676    1  20.6\n",
      "8875  5210   40  1048  2005  16308   622    1  18.9\n",
      "8874  5210   45  1381  2006  16739   638    1  21.1\n",
      "8871  5210   45  2344  2007  22221   848    1  22.2\n",
      "8870  5210   50  3117  2013  15104   576    1  19.4\n",
      "8872  5210   40   381  2013  12207   465    1  19.4\n",
      "        Id  Age  Rank  Year   Time  Pace  Sex  Temp\n",
      "9036  5315   55   637  2004  14733   562    1  20.6\n",
      "9029  5315   55  1398  2006  16791   640    1  21.1\n",
      "9037  5315   30  2614  2008  23341   890    1  17.8\n",
      "9038  5315   30  1951  2009  17446   665    1  14.4\n",
      "9034  5315   60   933  2010  15105   576    1  21.7\n",
      "9032  5315   30  2169  2012  16714   637    1  20.6\n",
      "9031  5315   30  2139  2013  14436   550    1  19.4\n",
      "9033  5315   35  3066  2014  20528   783    1  22.8\n",
      "9030  5315   35  1003  2015  14828   565    1  11.7\n",
      "9035  5315   35  2226  2015  18945   723    1  11.7\n",
      "        Id  Age  Rank  Year   Time  Pace  Sex  Temp\n",
      "9463  5585   30  1416  2004  18471   705    0  20.6\n",
      "9462  5585   25  1486  2005  18773   716    0  18.9\n",
      "9465  5585   35   890  2005  15661   597    0  18.9\n",
      "9464  5585   35  1251  2007  16553   631    0  22.2\n",
      "9461  5585   30   406  2009  13102   500    0  14.4\n",
      "         Id  Age  Rank  Year   Time  Pace  Sex  Temp\n",
      "10215  6099   35   893  2005  15670   598    1  18.9\n",
      "10217  6099   40  1615  2008  16758   639    1  17.8\n",
      "10216  6099   35  2316  2009  19120   729    1  14.4\n",
      "10220  6099   25  2032  2009  17776   678    1  14.4\n",
      "10219  6099   40  2555  2011  17640   673    1  11.1\n",
      "10218  6099   45  1669  2014  16612   634    1  22.8\n",
      "         Id  Age  Rank  Year   Time  Pace  Sex  Temp\n",
      "11240  6857   30  1654  2005  21084   804    1  18.9\n",
      "11238  6857   30  1535  2013  13881   529    1  19.4\n",
      "11239  6857   35  1622  2013  13981   533    1  19.4\n",
      "         Id  Age  Rank  Year   Time  Pace  Sex  Temp\n",
      "11591  7109   30   856  2005  15479   590    1  18.9\n",
      "11596  7109   30  1650  2006  17723   676    1  21.1\n",
      "11597  7109   60  1789  2006  18354   700    1  21.1\n",
      "11594  7109   35  1620  2008  16776   640    1  17.8\n",
      "11595  7109   30  1896  2009  17307   660    1  14.4\n",
      "11590  7109   35  2246  2011  16859   643    1  11.1\n",
      "11593  7109   40  3494  2014  23416   893    1  22.8\n",
      "11592  7109   35  2278  2015  19186   732    1  11.7\n",
      "         Id  Age  Rank  Year   Time  Pace  Sex  Temp\n",
      "11847  7289   35    64  2006  11104   423    1  21.1\n",
      "11848  7289   40  1184  2009  15342   585    1  14.4\n",
      "11849  7289   40  1027  2010  15349   585    1  21.7\n",
      "11845  7289   55  1273  2013  13649   520    1  19.4\n",
      "11846  7289   35  1084  2013  13428   512    1  19.4\n",
      "         Id  Age  Rank  Year   Time  Pace  Sex  Temp\n",
      "12110  7506   40   871  2006  14954   570    1  21.1\n",
      "12111  7506   45   834  2006  14846   566    0  21.1\n",
      "         Id  Age  Rank  Year   Time  Pace  Sex  Temp\n",
      "12974  8174   35   324  2006  13025   497    1  21.1\n",
      "12975  8174   45   853  2009  14368   548    1  14.4\n",
      "12971  8174   45   476  2010  13785   526    1  21.7\n",
      "12972  8174   25   893  2010  15005   572    1  21.7\n",
      "12973  8174   50  1293  2013  13668   521    1  19.4\n",
      "         Id  Age  Rank  Year   Time  Pace  Sex  Temp\n",
      "14385  9294   60  1412  2007  17036   650    1  22.2\n",
      "14386  9294   30  1810  2007  18557   708    1  22.2\n",
      "         Id  Age  Rank  Year   Time  Pace  Sex  Temp\n",
      "14476  9370   50   512  2007  14143   539    1  22.2\n",
      "14478  9370   25   111  2007  12295   469    1  22.2\n",
      "14477  9370   50   689  2008  14047   536    1  17.8\n",
      "14479  9370   50   832  2009  14307   546    1  14.4\n",
      "         Id  Age  Rank  Year   Time  Pace  Sex  Temp\n",
      "14926  9721   40   647  2007  14630   558    1  22.2\n",
      "14924  9721   40  1288  2011  14736   562    1  11.1\n",
      "14925  9721   40   788  2011  13748   524    1  11.1\n",
      "14927  9721   45  2447  2012  17348   662    1  20.6\n",
      "          Id  Age  Rank  Year   Time  Pace  Sex  Temp\n",
      "15599  10236   45  1241  2007  16528   630    1  22.2\n",
      "15601  10236   45  1498  2011  15226   581    1  11.1\n",
      "15602  10236   35  3298  2011  20747   791    1  11.1\n",
      "15600  10236   50  2283  2012  16967   647    1  20.6\n",
      "15598  10236   40   535  2014  13899   530    1  22.8\n",
      "          Id  Age  Rank  Year   Time  Pace  Sex  Temp\n",
      "16125  10638   30   370  2007  13637   520    1  22.2\n",
      "16124  10638   35   256  2008  12603   481    1  17.8\n",
      "16126  10638   35   645  2009  13822   527    1  14.4\n",
      "16129  10638   50  2383  2009  19500   744    1  14.4\n",
      "16127  10638   50  2020  2011  16345   623    1  11.1\n",
      "16128  10638   50  3193  2012  19274   735    1  20.6\n",
      "          Id  Age  Rank  Year   Time  Pace  Sex  Temp\n",
      "16455  10888   30  2216  2007  21010   801    1  22.2\n",
      "16457  10888   35  1365  2012  15190   579    1  20.6\n",
      "16456  10888   45   896  2013  13178   502    1  19.4\n",
      "16458  10888   30   801  2013  13019   496    1  19.4\n",
      "          Id  Age  Rank  Year   Time  Pace  Sex  Temp\n",
      "17732  11916   30  2065  2008  18295   698    1  17.8\n",
      "17734  11916   30  1267  2011  14688   560    1  11.1\n",
      "17731  11916   35  2900  2014  19985   762    1  22.8\n",
      "17733  11916   30   565  2014  14000   534    1  22.8\n",
      "          Id  Age  Rank  Year   Time  Pace  Sex  Temp\n",
      "18152  12244   35  1210  2008  15602   595    1  17.8\n",
      "18153  12244   60   326  2008  12911   492    1  17.8\n",
      "18151  12244   35  1367  2009  15807   603    1  14.4\n",
      "18155  12244   35  1850  2010  17445   665    1  21.7\n",
      "18154  12244   40  1111  2011  14348   547    1  11.1\n",
      "18156  12244   40   436  2014  13606   519    1  22.8\n",
      "          Id  Age  Rank  Year   Time  Pace  Sex  Temp\n",
      "19220  13104   30   915  2008  14672   560    1  17.8\n",
      "19219  13104   35  1042  2009  14978   571    1  14.4\n",
      "19218  13104   35   213  2010  12663   483    1  21.7\n",
      "19215  13104   35   302  2011  12369   472    1  11.1\n",
      "19217  13104   45   577  2011  13242   505    1  11.1\n",
      "19216  13104   35    74  2012  11231   428    1  20.6\n",
      "          Id  Age  Rank  Year   Time  Pace  Sex  Temp\n",
      "20187  13850   50  2732  2009  23280   888    0  14.4\n",
      "20183  13850   55  1816  2010  17338   661    1  21.7\n",
      "20186  13850   55  2624  2010  20808   794    0  21.7\n",
      "20185  13850   55  1927  2011  16128   615    1  11.1\n",
      "20184  13850   55  3248  2012  19465   742    0  20.6\n",
      "20188  13850   60  2946  2012  18530   707    1  20.6\n",
      "20181  13850   60  2832  2014  19738   753    1  22.8\n",
      "20182  13850   55  3182  2014  21116   805    0  22.8\n",
      "          Id  Age  Rank  Year   Time  Pace  Sex  Temp\n",
      "20317  13944   35  1266  2009  15542   593    1  14.4\n",
      "20316  13944   40  2335  2012  17072   651    1  20.6\n",
      "20318  13944   40  2909  2012  18430   703    1  20.6\n",
      "          Id  Age  Rank  Year   Time  Pace  Sex  Temp\n",
      "22421  15610   45  1445  2010  16373   624    1  21.7\n",
      "22419  15610   25  1744  2012  15894   606    1  20.6\n",
      "22420  15610   45  1082  2012  14637   558    1  20.6\n",
      "22418  15610   25  3199  2013  15156   578    1  19.4\n",
      "          Id  Age  Rank  Year   Time  Pace  Sex  Temp\n",
      "22758  15872   40   962  2010  15190   579    1  21.7\n",
      "22756  15872   55   201  2015  12456   475    1  11.7\n",
      "22757  15872   35   637  2015  13889   530    1  11.7\n",
      "          Id  Age  Rank  Year   Time  Pace  Sex  Temp\n",
      "22878  15970   25    65  2010  11364   433    1  21.7\n",
      "22882  15970   30   119  2011  11438   436    1  11.1\n",
      "22880  15970   40   660  2012  13731   524    1  20.6\n",
      "22881  15970   30    45  2012  10750   410    1  20.6\n",
      "22879  15970   30    50  2013  10391   396    1  19.4\n",
      "          Id  Age  Rank  Year   Time  Pace  Sex  Temp\n",
      "23918  16803   25  1652  2010  16915   645    1  21.7\n",
      "23917  16803   40  1851  2013  14205   541    1  19.4\n",
      "23919  16803   35  2885  2014  19937   760    1  22.8\n",
      "23921  16803   40  3162  2014  21034   802    1  22.8\n",
      "23920  16803   45  1190  2015  15372   586    1  11.7\n",
      "          Id  Age  Rank  Year   Time  Pace  Sex  Temp\n",
      "24368  17190   45   440  2010  13715   523    1  21.7\n",
      "24369  17190   35  1504  2012  15470   590    1  20.6\n",
      "24371  17190   50  1405  2012  15267   582    1  20.6\n",
      "24370  17190   50  2047  2013  14365   547    1  19.4\n",
      "          Id  Age  Rank  Year   Time  Pace  Sex  Temp\n",
      "24768  17499   45  2466  2011  17374   663    1  11.1\n",
      "24767  17499   30    22  2012  10137   386    1  20.6\n",
      "24770  17499   45  3224  2012  19393   740    1  20.6\n",
      "24769  17499   50  2616  2014  19066   727    1  22.8\n",
      "          Id  Age  Rank  Year   Time  Pace  Sex  Temp\n",
      "25144  17817   30   305  2011  12373   472    1  11.1\n",
      "25145  17817   30  1454  2011  15145   578    1  11.1\n",
      "          Id  Age  Rank  Year   Time  Pace  Sex  Temp\n",
      "25193  17857   30   938  2011  14034   535    0  11.1\n",
      "25191  17857   30  2586  2014  18965   723    0  22.8\n",
      "25192  17857   35   843  2014  14750   562    0  22.8\n",
      "          Id  Age  Rank  Year   Time  Pace  Sex  Temp\n",
      "25849  18403   45  2631  2011  17859   681    1  11.1\n",
      "25853  18403   35  1166  2012  14828   565    1  20.6\n",
      "25850  18403   25   737  2014  14455   551    1  22.8\n",
      "25852  18403   30  3398  2014  22412   855    1  22.8\n",
      "25851  18403   40  1999  2015  17791   679    1  11.7\n",
      "          Id  Age  Rank  Year   Time  Pace  Sex  Temp\n",
      "26211  18709   25   547  2011  13170   502    1  11.1\n",
      "26210  18709   30   401  2012  13001   496    1  20.6\n",
      "26212  18709   50  1453  2012  15365   586    1  20.6\n",
      "          Id  Age  Rank  Year   Time  Pace  Sex  Temp\n",
      "26223  18716   55  3102  2011  19565   746    1  11.1\n",
      "26222  18716   35  2926  2013  14987   571    1  19.4\n",
      "26224  18716   30  3448  2013  15305   583    1  19.4\n",
      "          Id  Age  Rank  Year   Time  Pace  Sex  Temp\n",
      "26254  18740   60  3110  2011  19594   747    1  11.1\n",
      "26255  18740   40  2848  2011  18450   704    1  11.1\n",
      "26253  18740   40  2139  2012  16645   635    1  20.6\n",
      "          Id  Age  Rank  Year   Time  Pace  Sex  Temp\n",
      "27138  19479   25  3046  2011  19243   734    0  11.1\n",
      "27136  19479   30  1163  2013  13532   516    0  19.4\n",
      "27135  19479   35  1694  2015  16706   637    0  11.7\n",
      "27137  19479   40  2291  2015  19318   737    0  11.7\n",
      "          Id  Age  Rank  Year   Time  Pace  Sex  Temp\n",
      "28285  20471   45  1831  2012  16038   612    1  20.6\n",
      "28287  20471   20  3036  2012  18794   717    1  20.6\n",
      "28286  20471   50  2452  2014  18507   706    1  22.8\n",
      "28288  20471   20  2719  2014  19384   739    1  22.8\n",
      "          Id  Age  Rank  Year   Time  Pace  Sex  Temp\n",
      "28600  20754   35  3666  2012  21452   818    1  20.6\n",
      "28601  20754   25  3815  2012  22674   865    1  20.6\n",
      "28602  20754   30  2153  2013  14445   550    1  19.4\n",
      "          Id  Age  Rank  Year   Time  Pace  Sex  Temp\n",
      "29633  21700   25  3421  2012  20165   769    1  20.6\n",
      "29634  21700   40  2158  2012  16690   637    1  20.6\n",
      "          Id  Age  Rank  Year   Time  Pace  Sex  Temp\n",
      "29791  21839   20  2288  2012  16972   647    1  20.6\n",
      "29793  21839   40  2801  2012  18166   693    1  20.6\n",
      "29790  21839   25  3048  2014  20464   781    1  22.8\n",
      "29792  21839   25  2260  2015  19108   729    1  11.7\n",
      "          Id  Age  Rank  Year   Time  Pace  Sex  Temp\n",
      "30032  22059   35  3846  2012  22989   877    1  20.6\n",
      "30031  22059   30   338  2014  13281   506    1  22.8\n",
      "30033  22059   40  3361  2014  22122   844    1  22.8\n",
      "          Id  Age  Rank  Year   Time  Pace  Sex  Temp\n",
      "30758  22729   50  1132  2012  14749   562    1  20.6\n",
      "30759  22729   40  2578  2013  14766   563    1  19.4\n",
      "30760  22729   50   825  2013  13057   497    1  19.4\n",
      "          Id  Age  Rank  Year   Time  Pace  Sex  Temp\n",
      "30951  22902   35   626  2012  13671   521    1  20.6\n",
      "30950  22902   35   231  2013  11756   448    1  19.4\n",
      "30952  22902   30  3450  2013  15307   583    1  19.4\n",
      "          Id  Age  Rank  Year   Time  Pace  Sex  Temp\n",
      "31726  23632   35   262  2013  11867   452    1  19.4\n",
      "31727  23632   35   179  2013  11562   440    1  19.4\n",
      "          Id  Age  Rank  Year   Time  Pace  Sex  Temp\n",
      "32033  23917   25  2707  2013  14852   566    1  19.4\n",
      "32034  23917   30  1324  2013  13689   522    1  19.4\n",
      "32032  23917   25   182  2015  12362   471    1  11.7\n",
      "          Id  Age  Rank  Year   Time  Pace  Sex  Temp\n",
      "32061  23942   45  1696  2013  14061   536    1  19.4\n",
      "32060  23942   50  1672  2014  16613   634    1  22.8\n",
      "32062  23942   50  1184  2014  15550   593    1  22.8\n",
      "32063  23942   50   522  2015  13545   516    1  11.7\n",
      "          Id  Age  Rank  Year   Time  Pace  Sex  Temp\n",
      "32338  24205   30   164  2013  11468   437    1  19.4\n",
      "32339  24205   20  3285  2014  21688   827    1  22.8\n",
      "32341  24205   20  2386  2014  18309   698    1  22.8\n",
      "32340  24205   25  1847  2015  17220   657    1  11.7\n",
      "          Id  Age  Rank  Year   Time  Pace  Sex  Temp\n",
      "32391  24253   35  2820  2013  14925   569    1  19.4\n",
      "32393  24253   35  2395  2013  14635   558    1  19.4\n",
      "32392  24253   35  2414  2014  18379   701    1  22.8\n",
      "          Id  Age  Rank  Year   Time  Pace  Sex  Temp\n",
      "33020  24854   40  1938  2013  14273   544    1  19.4\n",
      "33021  24854   40  1604  2013  13954   532    1  19.4\n",
      "          Id  Age  Rank  Year   Time  Pace  Sex  Temp\n",
      "35470  27165   25  2378  2014  18273   697    0  22.8\n",
      "35471  27165   50   499  2014  13796   526    0  22.8\n"
     ]
    }
   ],
   "source": [
    "for err in errRunnerIds2:\n",
    "    print data[data['Id']==err].ix[:, data.columns != 'halfMarathonTime'].sort_values(by='Year')\n"
   ]
  },
  {
   "cell_type": "markdown",
   "metadata": {},
   "source": [
    "## Verify that Age is 'reasonable' given Year and \n",
    "Kind of goes hand in hand with Removing duplicate IDs in same year"
   ]
  },
  {
   "cell_type": "code",
   "execution_count": null,
   "metadata": {
    "collapsed": false
   },
   "outputs": [],
   "source": []
  },
  {
   "cell_type": "markdown",
   "metadata": {},
   "source": [
    "## Cross-Validate Pace/Time/Rank"
   ]
  },
  {
   "cell_type": "code",
   "execution_count": 36,
   "metadata": {
    "collapsed": false
   },
   "outputs": [],
   "source": [
    "years = sorted(set(data['Year']))\n",
    "\n",
    "for y in years:\n",
    "    currentYear = data[data['Year']==y].sort_values(by='Rank')\n",
    "\n",
    "    prevTime = currentYear[:1]['Time'].values[0]\n",
    "    prevPace = currentYear[:1]['Pace'].values[0]\n",
    "    prevRank = currentYear[:1]['Rank'].values[0]\n",
    "\n",
    "    for row in currentYear[1:].iterrows():\n",
    "        if ((row[1]['Pace'] < prevPace) or (row[1]['Rank'] < prevRank) or (row[1]['Time'] < prevTime)):\n",
    "            print row[1]['Id'], row[1]['Year']\n",
    "        prevPace = row[1]['Pace']\n",
    "        prevRank = row[1]['Rank']\n",
    "        prevTime = row[1]['Time']"
   ]
  },
  {
   "cell_type": "markdown",
   "metadata": {},
   "source": [
    "The print statement does not output anything. This validates that the Rank, Time and Pace data is all in order, and that they agree with one another. "
   ]
  },
  {
   "cell_type": "markdown",
   "metadata": {},
   "source": [
    "## Verify distance of the marathon using Pace, Time"
   ]
  },
  {
   "cell_type": "code",
   "execution_count": 37,
   "metadata": {
    "collapsed": false
   },
   "outputs": [],
   "source": [
    "years = sorted(set(data['Year']))\n",
    "\n",
    "for y in years:\n",
    "    currentYear = data[data['Year']==y].sort_values(by='Rank')\n",
    "    \n",
    "    for row in currentYear.iterrows():\n",
    "        if not(26.1365 < (row[1]['Time']/row[1]['Pace']) and (row[1]['Time']/row[1]['Pace']) < 26.2927):\n",
    "            print row[1]['Id'], row[1]['Year']"
   ]
  },
  {
   "cell_type": "markdown",
   "metadata": {},
   "source": [
    "Nothing is outputted. All distances based on the recorded Time and Pace are found to be between 26.1365 and 26.2927 miles. "
   ]
  },
  {
   "cell_type": "markdown",
   "metadata": {},
   "source": [
    "## "
   ]
  },
  {
   "cell_type": "markdown",
   "metadata": {},
   "source": [
    "## Years since Last Race"
   ]
  },
  {
   "cell_type": "code",
   "execution_count": 55,
   "metadata": {
    "collapsed": true
   },
   "outputs": [],
   "source": [
    "data['yrsSinceLast'] = 15"
   ]
  },
  {
   "cell_type": "code",
   "execution_count": 57,
   "metadata": {
    "collapsed": true
   },
   "outputs": [],
   "source": [
    "def yearsSinceLastRace(runnerId,year,data):\n",
    "    yrs = 15\n",
    "    runnerAllYears = data[(data['Id']==runnerId) & (data['Year']<year)].sort_values(by='Year')['Year']\n",
    "    if( runnerAllYears.size > 0 ):\n",
    "        yrs = year - max(runnerAllYears)\n",
    "    return yrs\n",
    "    "
   ]
  },
  {
   "cell_type": "code",
   "execution_count": 58,
   "metadata": {
    "collapsed": false
   },
   "outputs": [],
   "source": [
    "for i in data.index.tolist():\n",
    "    runnerId = data.loc[i]['Id']\n",
    "    year = data.loc[i]['Year']\n",
    "    #data.set_value(i,'totalNumRaces',count)\n",
    "    data.set_value(i,'yrsSinceLast',int(yearsSinceLastRace(runnerId,year,data)))"
   ]
  },
  {
   "cell_type": "markdown",
   "metadata": {},
   "source": [
    "## Add Number of Races\n",
    "Number of races run since 2003"
   ]
  },
  {
   "cell_type": "code",
   "execution_count": 41,
   "metadata": {
    "collapsed": true
   },
   "outputs": [],
   "source": [
    "data['raceCount'] = 0"
   ]
  },
  {
   "cell_type": "code",
   "execution_count": 42,
   "metadata": {
    "collapsed": false
   },
   "outputs": [],
   "source": [
    "for i in data.index.tolist():\n",
    "    runnerId = data.loc[i]['Id']\n",
    "    count = int(data[data['Id']==runnerId]['Id'].size)\n",
    "    data.set_value(i,'raceCount',count)"
   ]
  },
  {
   "cell_type": "markdown",
   "metadata": {},
   "source": [
    "## Add Number of Races Ran to date (prev. count)"
   ]
  },
  {
   "cell_type": "code",
   "execution_count": 43,
   "metadata": {
    "collapsed": true
   },
   "outputs": [],
   "source": [
    "data['prevRaceCount'] = 0"
   ]
  },
  {
   "cell_type": "code",
   "execution_count": 44,
   "metadata": {
    "collapsed": false
   },
   "outputs": [],
   "source": [
    "for i in data.index.tolist():\n",
    "    runnerId = data.loc[i]['Id']\n",
    "    d = data[data['Id']==runnerId]\n",
    "\n",
    "    if d['Id'].size > 1:\n",
    "        runnerYear = data.loc[i]['Year']\n",
    "        prevCount = d[d['Year']<runnerYear]['Year'].size\n",
    "        data.set_value(i,'prevRaceCount',prevCount)"
   ]
  },
  {
   "cell_type": "markdown",
   "metadata": {},
   "source": [
    "## Normalize data"
   ]
  },
  {
   "cell_type": "markdown",
   "metadata": {},
   "source": [
    "### Get max values per category per year"
   ]
  },
  {
   "cell_type": "code",
   "execution_count": 46,
   "metadata": {
    "collapsed": false
   },
   "outputs": [],
   "source": [
    "ages = set(data['Age'].values)\n",
    "ages.remove(0)\n",
    "agemin = min(ages)\n",
    "agemax = max(ages)\n",
    "\n",
    "tempbounds = temp.values()\n",
    "tempmax = max(tempbounds)\n",
    "tempmin = min(tempbounds)\n",
    "\n",
    "yearmax = 2017.\n",
    "yearmin = 2003."
   ]
  },
  {
   "cell_type": "code",
   "execution_count": 60,
   "metadata": {
    "collapsed": false,
    "scrolled": true
   },
   "outputs": [],
   "source": [
    "normBounds = {}\n",
    "for y in sorted(set(data['Year'])):\n",
    "    d = data[data['Year']==y]\n",
    "    rankbounds = [max(d['Rank'].values),min(d['Rank'].values)]\n",
    "    timebounds = [max(d['Time'].values),min(d['Time'].values)]\n",
    "    pacebounds = [max(d['Pace'].values),min(d['Pace'].values)]\n",
    "    normBounds[str(y)] = [rankbounds, timebounds, pacebounds]\n",
    "    \n",
    "normBounds['Age'] = [agemax, agemin]\n",
    "normBounds['Temp'] = [tempmax,tempmin]\n",
    "normBounds['Year'] = [yearmax,yearmin]\n",
    "\n",
    "data['nTime'] = 0.\n",
    "data['nPace'] = 0.\n",
    "data['nRank'] = 0.\n",
    "data['nAge']  = 0.\n",
    "data['nTemp'] = 0.\n",
    "data['nYear'] = 0.\n",
    "data['nTotalCount'] = 0.\n",
    "data['nPrevCount'] = 0.\n",
    "data['nLast'] = 0.\n",
    "#    year"
   ]
  },
  {
   "cell_type": "code",
   "execution_count": 61,
   "metadata": {
    "collapsed": false
   },
   "outputs": [],
   "source": [
    "for i in data.index.tolist():\n",
    "    year = str(int(data.loc[i]['Year']))\n",
    "    rank = data.loc[i]['Rank']\n",
    "    pace = data.loc[i]['Pace']\n",
    "    time = data.loc[i]['Time']\n",
    "    age = data.loc[i]['Age']\n",
    "    temp = data.loc[i]['Temp']\n",
    "    \n",
    "    yearsSinceLast = data.loc[i]['yrsSinceLast']\n",
    "    raceCount = data.loc[i]['raceCount']\n",
    "    prevCount = data.loc[i]['prevRaceCount']\n",
    "    \n",
    "    data.set_value(i,'nTime',((rank - normBounds[year][0][1])/normBounds[year][0][0]))\n",
    "    data.set_value(i,'nPace',((time - normBounds[year][1][1])/normBounds[year][1][0]))\n",
    "    data.set_value(i,'nRank',((pace - normBounds[year][2][1])/normBounds[year][2][0]))\n",
    "    data.set_value(i,'nTemp',((temp - normBounds['Temp'][1])/normBounds['Temp'][0]))\n",
    "    data.set_value(i,'nAge',((age - normBounds['Age'][1])/normBounds['Age'][0]))\n",
    "    data.set_value(i,'nYear',((int(year) - normBounds['Year'][1])/normBounds['Year'][0]))\n",
    "\n",
    "    data.set_value(i,'nTotalCount',(raceCount/15.))\n",
    "    data.set_value(i,'nPrevCount',(prevCount/14.))\n",
    "    data.set_value(i,'nLast',(yearsSinceLast/15.))"
   ]
  },
  {
   "cell_type": "markdown",
   "metadata": {},
   "source": [
    "### Average of previous race times"
   ]
  },
  {
   "cell_type": "code",
   "execution_count": 79,
   "metadata": {
    "collapsed": true
   },
   "outputs": [],
   "source": [
    "data['histTime'] = 0."
   ]
  },
  {
   "cell_type": "code",
   "execution_count": 82,
   "metadata": {
    "collapsed": false
   },
   "outputs": [],
   "source": [
    "for i in data.index.tolist():\n",
    "    runnerId = data.loc[i]['Id']\n",
    "    year = data.loc[i]['Year']\n",
    "    prevYears = data[(data['Id']==runnerId) & (data['Year']<year)]\n",
    "    \n",
    "    if( prevYears['Age'].size > 0):\n",
    "        historicalTimeAvg = prevYears['nTime'].sum()/data.loc[i]['prevRaceCount']\n",
    "        data.set_value(i,'histTime',historicalTimeAvg)"
   ]
  },
  {
   "cell_type": "markdown",
   "metadata": {},
   "source": [
    "# Data is cleaned. (once everything above here is done. which is ain't yet)\n",
    "Save data in .pkl file. Split Y1 and Y2 data sets. Randomize data. "
   ]
  },
  {
   "cell_type": "markdown",
   "metadata": {},
   "source": [
    "### Average number of marathons per person. "
   ]
  },
  {
   "cell_type": "code",
   "execution_count": 84,
   "metadata": {
    "collapsed": true
   },
   "outputs": [],
   "source": [
    "data.to_csv('out.csv')"
   ]
  },
  {
   "cell_type": "code",
   "execution_count": null,
   "metadata": {
    "collapsed": true
   },
   "outputs": [],
   "source": [
    "f = open('out.pkl', 'w')\n",
    "pickle.dump(data,f) \n",
    "f.close()"
   ]
  }
 ],
 "metadata": {
  "kernelspec": {
   "display_name": "Python 2",
   "language": "python",
   "name": "python2"
  },
  "language_info": {
   "codemirror_mode": {
    "name": "ipython",
    "version": 2
   },
   "file_extension": ".py",
   "mimetype": "text/x-python",
   "name": "python",
   "nbconvert_exporter": "python",
   "pygments_lexer": "ipython2",
   "version": "2.7.10"
  }
 },
 "nbformat": 4,
 "nbformat_minor": 1
}
