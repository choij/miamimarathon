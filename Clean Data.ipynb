{
 "cells": [
  {
   "cell_type": "code",
   "execution_count": 47,
   "metadata": {
    "collapsed": false
   },
   "outputs": [],
   "source": [
    "import pandas as pd\n",
    "import numpy as np\n",
    "from collections import Counter\n",
    "data = pd.read_csv('data/data.csv')\n",
    "#data = pd.DataFrame.from_csv('data/data.csv')"
   ]
  },
  {
   "cell_type": "markdown",
   "metadata": {},
   "source": [
    "## Remove 2013 Half Marathon Times from Training Set"
   ]
  },
  {
   "cell_type": "code",
   "execution_count": 48,
   "metadata": {
    "collapsed": true
   },
   "outputs": [],
   "source": [
    "halfMarathonId = data[data['Year']==2013].index.tolist()"
   ]
  },
  {
   "cell_type": "code",
   "execution_count": 49,
   "metadata": {
    "collapsed": true
   },
   "outputs": [],
   "source": [
    "for i in halfMarathonId:\n",
    "    data = data.drop(i)"
   ]
  },
  {
   "cell_type": "markdown",
   "metadata": {},
   "source": [
    "## Removing Unknown and Private participants"
   ]
  },
  {
   "cell_type": "code",
   "execution_count": 50,
   "metadata": {
    "collapsed": true
   },
   "outputs": [],
   "source": [
    "err0 = [3327, 5197, 23714, 26270]"
   ]
  },
  {
   "cell_type": "code",
   "execution_count": 51,
   "metadata": {
    "collapsed": false
   },
   "outputs": [
    {
     "name": "stdout",
     "output_type": "stream",
     "text": [
      "310\n"
     ]
    }
   ],
   "source": [
    "unknown_id = []\n",
    "for rid in err0:\n",
    "    unknown_id.extend(data[data['Id']==rid].index.tolist())\n",
    "\n",
    "print len(unknown_id)\n",
    "\n",
    "for i in unknown_id:\n",
    "    data = data.drop(i)"
   ]
  },
  {
   "cell_type": "markdown",
   "metadata": {},
   "source": [
    "There were 310 rows where participants were unknown or private. These are removed from the training data."
   ]
  },
  {
   "cell_type": "markdown",
   "metadata": {},
   "source": [
    "## Get Id's where Age is 0 "
   ]
  },
  {
   "cell_type": "code",
   "execution_count": 52,
   "metadata": {
    "collapsed": false
   },
   "outputs": [],
   "source": [
    "zeroAge = data[data['Age'] == 0].index.tolist()"
   ]
  },
  {
   "cell_type": "code",
   "execution_count": 53,
   "metadata": {
    "collapsed": false
   },
   "outputs": [],
   "source": [
    "runnerId = [data.loc[x]['Id'] for x in zeroAge]"
   ]
  },
  {
   "cell_type": "code",
   "execution_count": 54,
   "metadata": {
    "collapsed": false,
    "scrolled": true
   },
   "outputs": [],
   "source": [
    "onceZero = []\n",
    "for n in runnerId:\n",
    "    if data[data['Id'] == n]['Age'].size == 1:\n",
    "        onceZero.append(n)"
   ]
  },
  {
   "cell_type": "markdown",
   "metadata": {},
   "source": [
    "The following runner id's represent instances where the age is unknown, but the id only appears once, therefore age cannot be corrected: onceZero = [16673,16954,17902,18202]. To deal with these, the unknown age of the id was set to the average age of all runners who ranked within a range of +/- 50 of the runner in that particular year."
   ]
  },
  {
   "cell_type": "code",
   "execution_count": 55,
   "metadata": {
    "collapsed": false
   },
   "outputs": [],
   "source": [
    "def correctSingleInstanceAge(runnerId,data):\n",
    "    rank = int(data[data['Id'] == runnerId]['Rank'])\n",
    "    year = int(data[data['Id'] == runnerId]['Year'])\n",
    "    rangeOfRunners = data[(data['Rank']>rank-50) & (data['Rank']<rank+50)& (data['Year'] == year)]\n",
    "    avgAge = rangeOfRunners['Age'].sum()/rangeOfRunners['Age'].size\n",
    "\n",
    "    index = data[data['Id']==runnerId].index\n",
    "    data.set_value(index, 'Age', avgAge)\n",
    "    return\n"
   ]
  },
  {
   "cell_type": "code",
   "execution_count": 56,
   "metadata": {
    "collapsed": false
   },
   "outputs": [],
   "source": [
    "for n in onceZero:\n",
    "    runnerId.remove(n)\n",
    "    correctSingleInstanceAge(n,data)"
   ]
  },
  {
   "cell_type": "code",
   "execution_count": 57,
   "metadata": {
    "collapsed": false
   },
   "outputs": [],
   "source": [
    "i_pairs = []\n",
    "for rid in runnerId:\n",
    "    zeroYear = data[(data['Id'] == rid) & (data['Age']==0)].index.tolist()[0]\n",
    "    otherYear = data[(data['Id'] == rid) & (data['Age']!=0)].index.tolist()[0]\n",
    "    i_pairs.append((otherYear,zeroYear))"
   ]
  },
  {
   "cell_type": "markdown",
   "metadata": {},
   "source": [
    "For the remaining runner Ids, the participant ran in at least one other year where the age information is recorded. By taking the difference in the years, this offset is added to the recorded age."
   ]
  },
  {
   "cell_type": "code",
   "execution_count": 58,
   "metadata": {
    "collapsed": true
   },
   "outputs": [],
   "source": [
    "def offsetAge(idRecorded,idError,data):\n",
    "    ageRecorded = data.loc[idRecorded]['Age']\n",
    "    yearRecorded = data.loc[idRecorded]['Year']\n",
    "    yearError = data.loc[idError]['Year']\n",
    "    offset = yearError - yearRecorded\n",
    "    data.set_value(idError, 'Age', ageRecorded+offset)\n",
    "    return"
   ]
  },
  {
   "cell_type": "code",
   "execution_count": 59,
   "metadata": {
    "collapsed": false
   },
   "outputs": [],
   "source": [
    "for pair in i_pairs:\n",
    "    offsetAge(pair[0],pair[1],data)"
   ]
  },
  {
   "cell_type": "markdown",
   "metadata": {
    "collapsed": false
   },
   "source": [
    "By this stage, all instances of data where Age == 0 have been corrected."
   ]
  },
  {
   "cell_type": "markdown",
   "metadata": {},
   "source": [
    "# Minimum age of Miami Marathon is 11. Check outliers"
   ]
  },
  {
   "cell_type": "markdown",
   "metadata": {},
   "source": [
    "## Smallest Age"
   ]
  },
  {
   "cell_type": "code",
   "execution_count": 60,
   "metadata": {
    "collapsed": false
   },
   "outputs": [
    {
     "data": {
      "text/plain": [
       "10"
      ]
     },
     "execution_count": 60,
     "metadata": {},
     "output_type": "execute_result"
    }
   ],
   "source": [
    "data['Age'].min()"
   ]
  },
  {
   "cell_type": "code",
   "execution_count": 61,
   "metadata": {
    "collapsed": false
   },
   "outputs": [],
   "source": [
    "ten = data[data['Age']==10]['Id'].tolist()\n",
    "for rid in ten:\n",
    "    if (data[data['Id']==rid]['Age'].size > 1):\n",
    "        print 'Must correct runner id',rid\n",
    "    else:\n",
    "        continue"
   ]
  },
  {
   "cell_type": "markdown",
   "metadata": {},
   "source": [
    "For the rows with age == 10, these runners do not run in any other years. Simply remove these data points and consider them as outliers. "
   ]
  },
  {
   "cell_type": "code",
   "execution_count": 62,
   "metadata": {
    "collapsed": false
   },
   "outputs": [],
   "source": [
    "ageoutliers = data[data['Age']==10].index.tolist()"
   ]
  },
  {
   "cell_type": "code",
   "execution_count": 63,
   "metadata": {
    "collapsed": false
   },
   "outputs": [
    {
     "data": {
      "text/plain": [
       "[12096, 24513]"
      ]
     },
     "execution_count": 63,
     "metadata": {},
     "output_type": "execute_result"
    }
   ],
   "source": [
    "ageoutliers"
   ]
  },
  {
   "cell_type": "code",
   "execution_count": 64,
   "metadata": {
    "collapsed": false
   },
   "outputs": [],
   "source": [
    "for i in ageoutliers:\n",
    "    data = data.drop(i)"
   ]
  },
  {
   "cell_type": "markdown",
   "metadata": {},
   "source": [
    "## Age distribution"
   ]
  },
  {
   "cell_type": "code",
   "execution_count": 65,
   "metadata": {
    "collapsed": false
   },
   "outputs": [],
   "source": [
    "ages = data['Age']\n",
    "ageCount = Counter(ages)"
   ]
  },
  {
   "cell_type": "markdown",
   "metadata": {},
   "source": [
    "## Old Outliers"
   ]
  },
  {
   "cell_type": "code",
   "execution_count": 66,
   "metadata": {
    "collapsed": false
   },
   "outputs": [],
   "source": [
    "old_rid = list(set(data[data['Age']>78]['Id'].tolist()))\n",
    "for rid in old_rid:\n",
    "    continue\n",
    "    #print data[data['Id']==rid].sort_values(by='Year')"
   ]
  },
  {
   "cell_type": "markdown",
   "metadata": {},
   "source": [
    "The entry in 2007 for 5143 can be corrected using offsetAge. The other single instance where Age is 98 (runner 10179 in 2007) can be perceived as an outlier outside of the distribution of regular data values. It is therefore dropped. Note that with only 2 outlier points, keeping them would not greatly affect training data."
   ]
  },
  {
   "cell_type": "code",
   "execution_count": 67,
   "metadata": {
    "collapsed": false
   },
   "outputs": [],
   "source": [
    "offsetAge(877,8773,data)\n",
    "data = data.drop(15534)"
   ]
  },
  {
   "cell_type": "markdown",
   "metadata": {},
   "source": [
    "## Calculate 2017 Age based on cleaned data"
   ]
  },
  {
   "cell_type": "code",
   "execution_count": 70,
   "metadata": {
    "collapsed": false
   },
   "outputs": [
    {
     "name": "stderr",
     "output_type": "stream",
     "text": [
      "/Library/Python/2.7/site-packages/ipykernel/__main__.py:7: UserWarning: Boolean Series key will be reindexed to match DataFrame index.\n"
     ]
    }
   ],
   "source": [
    "ages_for_2017 = {}\n",
    "uniqueids = list(set(data['Id'].values.tolist()))\n",
    "\n",
    "for rid in uniqueids:\n",
    "    runner = data[data['Id']==rid]\n",
    "    latestYear = max(runner['Year'].values.tolist())\n",
    "    latestAge = runner[data['Year'] == latestYear]['Age'].values[0]\n",
    "    newAge = 2017-latestYear+latestAge\n",
    "    ages_for_2017[str(rid)] = newAge"
   ]
  },
  {
   "cell_type": "markdown",
   "metadata": {},
   "source": [
    "## Force Ages to increments of 5"
   ]
  },
  {
   "cell_type": "code",
   "execution_count": 75,
   "metadata": {
    "collapsed": false
   },
   "outputs": [],
   "source": [
    "indices = data['Age'].index.tolist()\n",
    "for i in indices:\n",
    "    data.loc[i]['Age'] = data.loc[i]['Age'] - data.loc[i]['Age']%5"
   ]
  },
  {
   "cell_type": "markdown",
   "metadata": {},
   "source": [
    "## Add weather data\n",
    "Temperature in deg. C at 6:53 or 6:59 AM"
   ]
  },
  {
   "cell_type": "code",
   "execution_count": 77,
   "metadata": {
    "collapsed": false
   },
   "outputs": [],
   "source": [
    "temp = {\n",
    "    '2003':10.6,\n",
    "    '2004':20.6,\n",
    "    '2005':18.9,\n",
    "    '2006':21.1,\n",
    "    '2007':22.2,\n",
    "    '2008':17.8,\n",
    "    '2009':14.4,\n",
    "    '2010':21.7,\n",
    "    '2011':11.1,\n",
    "    '2012':20.6,\n",
    "    '2013':19.4,\n",
    "    '2014':22.8,\n",
    "    '2015':11.7,\n",
    "    '2016':12.2\n",
    "}"
   ]
  },
  {
   "cell_type": "code",
   "execution_count": 78,
   "metadata": {
    "collapsed": false
   },
   "outputs": [],
   "source": [
    "data['Temp'] = 0."
   ]
  },
  {
   "cell_type": "code",
   "execution_count": 79,
   "metadata": {
    "collapsed": false
   },
   "outputs": [],
   "source": [
    "for i in data.index.tolist():\n",
    "    year = str(int(data.loc[i]['Year']))\n",
    "    data.set_value(i,'Temp',temp[year])"
   ]
  },
  {
   "cell_type": "markdown",
   "metadata": {},
   "source": [
    "## 2013 Projections using Riegel's formula\n",
    "http://cs229.stanford.edu/proj2015/247_report.pdf"
   ]
  },
  {
   "cell_type": "code",
   "execution_count": 25,
   "metadata": {
    "collapsed": true
   },
   "outputs": [],
   "source": [
    "#def fullMarathonTime(halfMarathonTime,data):\n",
    "#    return np.round(halfMarathonTime*((26.219/13.095)**1.06))"
   ]
  },
  {
   "cell_type": "code",
   "execution_count": 26,
   "metadata": {
    "collapsed": false
   },
   "outputs": [],
   "source": [
    "#halfMarathonId = data[data['Year']==2013].index.tolist()\n",
    "#data['halfMarathonTime'] = np.NaN"
   ]
  },
  {
   "cell_type": "markdown",
   "metadata": {},
   "source": [
    "#### Recalculate Pace of 2013 rows using Full Marathon Time"
   ]
  },
  {
   "cell_type": "code",
   "execution_count": 27,
   "metadata": {
    "collapsed": false
   },
   "outputs": [],
   "source": [
    "#for i in halfMarathonId:\n",
    "#    halftime = data.loc[i]['Time']\n",
    "#    data.set_value(i,'halfMarathonTime',halftime)\n",
    "#    fulltime = int(fullMarathonTime(halftime,data))\n",
    "#    data.set_value(i,'Time',fulltime)\n",
    "\n",
    "#    data.set_value(i,'Pace',fulltime/26.219)"
   ]
  },
  {
   "cell_type": "markdown",
   "metadata": {},
   "source": [
    "## Remove instances of same ID, same year, multiple records\n",
    "errRunnerIds1 for instances where >2 rows in a given year correspond to the same runner\n",
    "errRunnerIds2 for instances where 2 rows in a given year correspond to the same runner"
   ]
  },
  {
   "cell_type": "code",
   "execution_count": 83,
   "metadata": {
    "collapsed": false
   },
   "outputs": [],
   "source": [
    "runnerIds = set(data['Id'].tolist())\n",
    "\n",
    "errRunnerIds = []\n",
    "\n",
    "for rid in runnerIds:\n",
    "    runnerData = data[data['Id']==rid]\n",
    "    \n",
    "    if(runnerData['Age'].size > 1):\n",
    "        yearCount = Counter(runnerData['Year'])\n",
    "        #print yearCount\n",
    "        if max(yearCount.values()) >= 2:\n",
    "            errRunnerIds.append(rid)"
   ]
  },
  {
   "cell_type": "code",
   "execution_count": 84,
   "metadata": {
    "collapsed": false
   },
   "outputs": [],
   "source": [
    "count = 0"
   ]
  },
  {
   "cell_type": "code",
   "execution_count": 85,
   "metadata": {
    "collapsed": false
   },
   "outputs": [],
   "source": [
    "for err in errRunnerIds:\n",
    "    runnerData = data[data['Id']==err]\n",
    "    yearCount = Counter(runnerData['Year'])\n",
    "    ids = []\n",
    "    for y in yearCount.keys():\n",
    "        if yearCount[y] > 1:\n",
    "            idsSameYear=runnerData[runnerData['Year']==y].index.tolist()\n",
    "            ids.extend(idsSameYear)\n",
    "            count+= len(idsSameYear)\n",
    "    for i in ids:\n",
    "        data=data.drop(i)\n",
    "print count"
   ]
  },
  {
   "cell_type": "markdown",
   "metadata": {},
   "source": [
    "This eliminates 182 rows where a single runner ran multiple times in a given year."
   ]
  },
  {
   "cell_type": "markdown",
   "metadata": {},
   "source": [
    "## Cross-Validate Pace/Time/Rank"
   ]
  },
  {
   "cell_type": "code",
   "execution_count": 89,
   "metadata": {
    "collapsed": false
   },
   "outputs": [],
   "source": [
    "years = sorted(set(data['Year']))\n",
    "\n",
    "for y in years:\n",
    "    currentYear = data[data['Year']==y].sort_values(by='Rank')\n",
    "\n",
    "    prevTime = currentYear[:1]['Time'].values[0]\n",
    "    prevPace = currentYear[:1]['Pace'].values[0]\n",
    "    prevRank = currentYear[:1]['Rank'].values[0]\n",
    "\n",
    "    for row in currentYear[1:].iterrows():\n",
    "        if ((row[1]['Pace'] < prevPace) or (row[1]['Rank'] < prevRank) or (row[1]['Time'] < prevTime)):\n",
    "            print row[1]['Id'], row[1]['Year']\n",
    "        prevPace = row[1]['Pace']\n",
    "        prevRank = row[1]['Rank']\n",
    "        prevTime = row[1]['Time']"
   ]
  },
  {
   "cell_type": "markdown",
   "metadata": {},
   "source": [
    "The print statement does not output anything. This validates that the Rank, Time and Pace data is all in order, and that all three increase together."
   ]
  },
  {
   "cell_type": "markdown",
   "metadata": {},
   "source": [
    "## Verify distance of the marathon using Pace, Time"
   ]
  },
  {
   "cell_type": "code",
   "execution_count": 90,
   "metadata": {
    "collapsed": false
   },
   "outputs": [],
   "source": [
    "years = sorted(set(data['Year']))\n",
    "\n",
    "for y in years:\n",
    "    currentYear = data[data['Year']==y].sort_values(by='Rank')\n",
    "    \n",
    "    for row in currentYear.iterrows():\n",
    "        if not(26.1365 < (row[1]['Time']/row[1]['Pace']) and (row[1]['Time']/row[1]['Pace']) < 26.2927):\n",
    "            print row[1]['Id'], row[1]['Year']"
   ]
  },
  {
   "cell_type": "markdown",
   "metadata": {},
   "source": [
    "Nothing is outputted. All distances based on the recorded Time and Pace are found to be between 26.1365 and 26.2927 miles. "
   ]
  },
  {
   "cell_type": "markdown",
   "metadata": {},
   "source": [
    "## Years since Last Race"
   ]
  },
  {
   "cell_type": "code",
   "execution_count": 91,
   "metadata": {
    "collapsed": true
   },
   "outputs": [],
   "source": [
    "data['yrsSinceLast'] = 15"
   ]
  },
  {
   "cell_type": "code",
   "execution_count": 92,
   "metadata": {
    "collapsed": true
   },
   "outputs": [],
   "source": [
    "def yearsSinceLastRace(runnerId,year,data):\n",
    "    yrs = 15\n",
    "    runnerAllYears = data[(data['Id']==runnerId) & (data['Year']<year)].sort_values(by='Year')['Year']\n",
    "    if( runnerAllYears.size > 0 ):\n",
    "        yrs = year - max(runnerAllYears)\n",
    "    return yrs\n",
    "    "
   ]
  },
  {
   "cell_type": "code",
   "execution_count": 93,
   "metadata": {
    "collapsed": false
   },
   "outputs": [],
   "source": [
    "for i in data.index.tolist():\n",
    "    runnerId = data.loc[i]['Id']\n",
    "    year = data.loc[i]['Year']\n",
    "    #data.set_value(i,'totalNumRaces',count)\n",
    "    data.set_value(i,'yrsSinceLast',int(yearsSinceLastRace(runnerId,year,data)))"
   ]
  },
  {
   "cell_type": "markdown",
   "metadata": {},
   "source": [
    "## Add Number of Races\n",
    "Number of races run since 2003"
   ]
  },
  {
   "cell_type": "code",
   "execution_count": 94,
   "metadata": {
    "collapsed": true
   },
   "outputs": [],
   "source": [
    "data['raceCount'] = 0"
   ]
  },
  {
   "cell_type": "code",
   "execution_count": 95,
   "metadata": {
    "collapsed": false
   },
   "outputs": [],
   "source": [
    "for i in data.index.tolist():\n",
    "    runnerId = data.loc[i]['Id']\n",
    "    count = int(data[data['Id']==runnerId]['Id'].size)\n",
    "    data.set_value(i,'raceCount',count)"
   ]
  },
  {
   "cell_type": "markdown",
   "metadata": {},
   "source": [
    "## Add Number of Races Ran to date (prev. count)"
   ]
  },
  {
   "cell_type": "code",
   "execution_count": 96,
   "metadata": {
    "collapsed": true
   },
   "outputs": [],
   "source": [
    "data['prevRaceCount'] = 0"
   ]
  },
  {
   "cell_type": "code",
   "execution_count": 97,
   "metadata": {
    "collapsed": false
   },
   "outputs": [],
   "source": [
    "for i in data.index.tolist():\n",
    "    runnerId = data.loc[i]['Id']\n",
    "    d = data[data['Id']==runnerId]\n",
    "\n",
    "    if d['Id'].size > 1:\n",
    "        runnerYear = data.loc[i]['Year']\n",
    "        prevCount = d[d['Year']<runnerYear]['Year'].size\n",
    "        data.set_value(i,'prevRaceCount',prevCount)"
   ]
  },
  {
   "cell_type": "markdown",
   "metadata": {},
   "source": [
    "## Normalize data"
   ]
  },
  {
   "cell_type": "markdown",
   "metadata": {},
   "source": [
    "### Get max values per category per year"
   ]
  },
  {
   "cell_type": "code",
   "execution_count": null,
   "metadata": {
    "collapsed": true
   },
   "outputs": [],
   "source": [
    "ages = set(data['Age'].values)\n",
    "agemin = min(ages)\n",
    "agemax = max(ages)\n",
    "\n",
    "tempbounds = temp.values()\n",
    "tempmax = max(tempbounds)\n",
    "tempmin = min(tempbounds)\n",
    "\n",
    "yearmax = 2017.\n",
    "yearmin = 2003."
   ]
  },
  {
   "cell_type": "code",
   "execution_count": 100,
   "metadata": {
    "collapsed": false,
    "scrolled": true
   },
   "outputs": [],
   "source": [
    "normBounds = {}\n",
    "for y in sorted(set(data['Year'])):\n",
    "    d = data[data['Year']==y]\n",
    "    rankbounds = [max(d['Rank'].values),min(d['Rank'].values)]\n",
    "    timebounds = [max(d['Time'].values),min(d['Time'].values)]\n",
    "    pacebounds = [max(d['Pace'].values),min(d['Pace'].values)]\n",
    "    normBounds[str(y)] = [rankbounds, timebounds, pacebounds]\n",
    "    \n",
    "normBounds['Age'] = [agemax, agemin]\n",
    "normBounds['Temp'] = [tempmax,tempmin]\n",
    "normBounds['Year'] = [yearmax,yearmin]"
   ]
  },
  {
   "cell_type": "markdown",
   "metadata": {},
   "source": [
    "### Initialize normalized columns"
   ]
  },
  {
   "cell_type": "code",
   "execution_count": 101,
   "metadata": {
    "collapsed": true
   },
   "outputs": [],
   "source": [
    "data['nTime'] = 0.\n",
    "data['nPace'] = 0.\n",
    "data['nRank'] = 0.\n",
    "data['nAge']  = 0.\n",
    "data['nTemp'] = 0.\n",
    "data['nYear'] = 0.\n",
    "data['nTotalCount'] = 0.\n",
    "data['nPrevCount'] = 0.\n",
    "data['nLast'] = 0."
   ]
  },
  {
   "cell_type": "code",
   "execution_count": 102,
   "metadata": {
    "collapsed": false
   },
   "outputs": [],
   "source": [
    "for i in data.index.tolist():\n",
    "    year = str(int(data.loc[i]['Year']))\n",
    "    rank = data.loc[i]['Rank']\n",
    "    pace = data.loc[i]['Pace']\n",
    "    time = data.loc[i]['Time']\n",
    "    age = data.loc[i]['Age']\n",
    "    temp = data.loc[i]['Temp']\n",
    "    \n",
    "    yearsSinceLast = data.loc[i]['yrsSinceLast']\n",
    "    raceCount = data.loc[i]['raceCount']\n",
    "    prevCount = data.loc[i]['prevRaceCount']\n",
    "    \n",
    "    data.set_value(i,'nTime',((rank - normBounds[year][0][1])/normBounds[year][0][0]))\n",
    "    data.set_value(i,'nPace',((time - normBounds[year][1][1])/normBounds[year][1][0]))\n",
    "    data.set_value(i,'nRank',((pace - normBounds[year][2][1])/normBounds[year][2][0]))\n",
    "    data.set_value(i,'nTemp',((temp - normBounds['Temp'][1])/normBounds['Temp'][0]))\n",
    "    data.set_value(i,'nAge',((age - normBounds['Age'][1])/normBounds['Age'][0]))\n",
    "    data.set_value(i,'nYear',((int(year) - normBounds['Year'][1])/normBounds['Year'][0]))\n",
    "\n",
    "    data.set_value(i,'nTotalCount',(raceCount/15.))\n",
    "    data.set_value(i,'nPrevCount',(prevCount/14.))\n",
    "    data.set_value(i,'nLast',(yearsSinceLast/15.))"
   ]
  },
  {
   "cell_type": "markdown",
   "metadata": {},
   "source": [
    "### Average of previous race times"
   ]
  },
  {
   "cell_type": "code",
   "execution_count": 103,
   "metadata": {
    "collapsed": true
   },
   "outputs": [],
   "source": [
    "data['histTime'] = 0."
   ]
  },
  {
   "cell_type": "code",
   "execution_count": 104,
   "metadata": {
    "collapsed": false
   },
   "outputs": [],
   "source": [
    "for i in data.index.tolist():\n",
    "    runnerId = data.loc[i]['Id']\n",
    "    year = data.loc[i]['Year']\n",
    "    prevYears = data[(data['Id']==runnerId) & (data['Year']<year)]\n",
    "    \n",
    "    if( prevYears['Age'].size > 0):\n",
    "        historicalTimeAvg = prevYears['nTime'].sum()/data.loc[i]['prevRaceCount']\n",
    "        data.set_value(i,'histTime',historicalTimeAvg)"
   ]
  },
  {
   "cell_type": "markdown",
   "metadata": {},
   "source": [
    "# Data is cleaned.\n",
    "Save data in .pkl file. Split Y1 and Y2 data sets. Randomize data. "
   ]
  },
  {
   "cell_type": "code",
   "execution_count": 105,
   "metadata": {
    "collapsed": true
   },
   "outputs": [],
   "source": [
    "import pickle\n",
    "f = open('data/out.pkl', 'w')\n",
    "pickle.dump(data,f) \n",
    "f.close()"
   ]
  },
  {
   "cell_type": "code",
   "execution_count": 106,
   "metadata": {
    "collapsed": true
   },
   "outputs": [],
   "source": [
    "g = open('data/ages.pkl','w')\n",
    "pickle.dump(ages_for_2017,g)\n",
    "g.close()"
   ]
  },
  {
   "cell_type": "markdown",
   "metadata": {},
   "source": [
    "## Save in csv"
   ]
  },
  {
   "cell_type": "code",
   "execution_count": 107,
   "metadata": {
    "collapsed": true
   },
   "outputs": [],
   "source": [
    "data.to_csv('data/out.csv')"
   ]
  }
 ],
 "metadata": {
  "kernelspec": {
   "display_name": "Python 2",
   "language": "python",
   "name": "python2"
  },
  "language_info": {
   "codemirror_mode": {
    "name": "ipython",
    "version": 2
   },
   "file_extension": ".py",
   "mimetype": "text/x-python",
   "name": "python",
   "nbconvert_exporter": "python",
   "pygments_lexer": "ipython2",
   "version": "2.7.10"
  }
 },
 "nbformat": 4,
 "nbformat_minor": 1
}
