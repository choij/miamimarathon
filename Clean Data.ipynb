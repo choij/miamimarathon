{
 "cells": [
  {
   "cell_type": "code",
   "execution_count": 13,
   "metadata": {
    "collapsed": false
   },
   "outputs": [],
   "source": [
    "import pandas as pd\n",
    "import numpy as np\n",
    "data = pd.read_csv('data/data.csv')\n",
    "#data = pd.DataFrame.from_csv('data/data.csv')"
   ]
  },
  {
   "cell_type": "markdown",
   "metadata": {},
   "source": [
    "## Get Id's where Age is 0 "
   ]
  },
  {
   "cell_type": "code",
   "execution_count": 14,
   "metadata": {
    "collapsed": false
   },
   "outputs": [],
   "source": [
    "zeroAge = data[data['Age'] == 0].index.tolist()"
   ]
  },
  {
   "cell_type": "code",
   "execution_count": 15,
   "metadata": {
    "collapsed": false
   },
   "outputs": [],
   "source": [
    "runnerId = [data.iloc[x]['Id'] for x in zeroAge]"
   ]
  },
  {
   "cell_type": "code",
   "execution_count": 16,
   "metadata": {
    "collapsed": false,
    "scrolled": true
   },
   "outputs": [
    {
     "name": "stdout",
     "output_type": "stream",
     "text": [
      "      Id  Age  Rank  Year   Time  Pace  Sex\n",
      "488  308   45  1204  2016  15137   578    0\n",
      "489  308    0  1357  2014  15975   609    0\n",
      "        Id  Age  Rank  Year   Time  Pace  Sex\n",
      "2041  1229   48  2717  2009  22803   870    1\n",
      "2042  1229   47  2414  2008  20344   776    1\n",
      "2043  1229   53  3194  2014  21215   809    1\n",
      "2044  1229   46  2054  2007  19896   759    1\n",
      "2045  1229   51  3870  2012  23302   889    1\n",
      "2046  1229    0  3332  2011  20990   801    1\n",
      "2047  1229   50  2208  2006  21090   804    1\n",
      "2048  1229   50  3482  2011  22896   873    1\n",
      "2049  1229   49  2811  2010  23191   885    1\n",
      "2050  1229   44  1566  2005  19757   754    1\n",
      "2051  1229   55  2783  2016  20941   800    1\n",
      "2052  1229   50  2748  2015  25435   970    1\n",
      "         Id  Age  Rank  Year   Time  Pace  Sex\n",
      "10743  6491   43   217  2006  12496   476    1\n",
      "10744  6491   50   396  2015  13172   502    1\n",
      "10745  6491    0   264  2012  12452   475    1\n",
      "10746  6491   42    84  2005  11596   442    1\n",
      "         Id  Age  Rank  Year   Time  Pace  Sex\n",
      "13064  8250   47   501  2009  13384   510    1\n",
      "13065  8250    0   282  2006  12790   488    1\n",
      "13066  8250   45   196  2007  12790   488    1\n",
      "13067  8250   46   278  2008  12690   484    1\n",
      "          Id  Age  Rank  Year   Time  Pace  Sex\n",
      "23763  16673    0  2692  2010  21413   817    1\n",
      "          Id  Age  Rank  Year   Time  Pace  Sex\n",
      "24098  16954    0  2591  2010  20529   783    1\n",
      "          Id  Age  Rank  Year   Time  Pace  Sex\n",
      "24231  17070    0  2041  2011  16397   625    1\n",
      "24232  17070   30  1589  2010  16739   638    1\n",
      "          Id  Age  Rank  Year   Time  Pace  Sex\n",
      "25247  17902    0  3344  2011  21135   806    1\n",
      "          Id  Age  Rank  Year   Time  Pace  Sex\n",
      "25596  18202    0  1402  2011  15040   574    0\n",
      "          Id  Age  Rank  Year  Time  Pace  Sex\n",
      "30993  22942    0  2877  2013  7167   547    1\n",
      "          Id  Age  Rank  Year  Time  Pace  Sex\n",
      "31813  23714    0  2228  2013  6949   530    1\n",
      "31814  23714    0  2363  2013  7003   534    1\n",
      "31815  23714    0  1877  2013  6816   520    1\n",
      "31816  23714    0  1289  2013  6547   499    1\n",
      "31817  23714    0  2194  2013  6934   529    1\n",
      "31818  23714    0    64  2013  5132   391    1\n",
      "          Id  Age  Rank  Year  Time  Pace  Sex\n",
      "31813  23714    0  2228  2013  6949   530    1\n",
      "31814  23714    0  2363  2013  7003   534    1\n",
      "31815  23714    0  1877  2013  6816   520    1\n",
      "31816  23714    0  1289  2013  6547   499    1\n",
      "31817  23714    0  2194  2013  6934   529    1\n",
      "31818  23714    0    64  2013  5132   391    1\n",
      "          Id  Age  Rank  Year  Time  Pace  Sex\n",
      "31813  23714    0  2228  2013  6949   530    1\n",
      "31814  23714    0  2363  2013  7003   534    1\n",
      "31815  23714    0  1877  2013  6816   520    1\n",
      "31816  23714    0  1289  2013  6547   499    1\n",
      "31817  23714    0  2194  2013  6934   529    1\n",
      "31818  23714    0    64  2013  5132   391    1\n",
      "          Id  Age  Rank  Year  Time  Pace  Sex\n",
      "31813  23714    0  2228  2013  6949   530    1\n",
      "31814  23714    0  2363  2013  7003   534    1\n",
      "31815  23714    0  1877  2013  6816   520    1\n",
      "31816  23714    0  1289  2013  6547   499    1\n",
      "31817  23714    0  2194  2013  6934   529    1\n",
      "31818  23714    0    64  2013  5132   391    1\n",
      "          Id  Age  Rank  Year  Time  Pace  Sex\n",
      "31813  23714    0  2228  2013  6949   530    1\n",
      "31814  23714    0  2363  2013  7003   534    1\n",
      "31815  23714    0  1877  2013  6816   520    1\n",
      "31816  23714    0  1289  2013  6547   499    1\n",
      "31817  23714    0  2194  2013  6934   529    1\n",
      "31818  23714    0    64  2013  5132   391    1\n",
      "          Id  Age  Rank  Year  Time  Pace  Sex\n",
      "31813  23714    0  2228  2013  6949   530    1\n",
      "31814  23714    0  2363  2013  7003   534    1\n",
      "31815  23714    0  1877  2013  6816   520    1\n",
      "31816  23714    0  1289  2013  6547   499    1\n",
      "31817  23714    0  2194  2013  6934   529    1\n",
      "31818  23714    0    64  2013  5132   391    1\n",
      "          Id  Age  Rank  Year   Time  Pace  Sex\n",
      "34509  26270    0  2464  2014  18543   707    0\n",
      "34510  26270    0  2898  2014  19983   762    0\n",
      "34511  26270    0  2877  2014  19892   759    0\n",
      "34512  26270    0  2186  2014  17765   678    0\n",
      "          Id  Age  Rank  Year   Time  Pace  Sex\n",
      "34509  26270    0  2464  2014  18543   707    0\n",
      "34510  26270    0  2898  2014  19983   762    0\n",
      "34511  26270    0  2877  2014  19892   759    0\n",
      "34512  26270    0  2186  2014  17765   678    0\n",
      "          Id  Age  Rank  Year   Time  Pace  Sex\n",
      "34509  26270    0  2464  2014  18543   707    0\n",
      "34510  26270    0  2898  2014  19983   762    0\n",
      "34511  26270    0  2877  2014  19892   759    0\n",
      "34512  26270    0  2186  2014  17765   678    0\n",
      "          Id  Age  Rank  Year   Time  Pace  Sex\n",
      "34509  26270    0  2464  2014  18543   707    0\n",
      "34510  26270    0  2898  2014  19983   762    0\n",
      "34511  26270    0  2877  2014  19892   759    0\n",
      "34512  26270    0  2186  2014  17765   678    0\n"
     ]
    }
   ],
   "source": [
    "for n in runnerId:\n",
    "    print data[data['Id'] == n]"
   ]
  },
  {
   "cell_type": "markdown",
   "metadata": {},
   "source": [
    "The following runner id's represent instances where the age is unknown, but the id only appears once, therefore age cannot be corrected: [16673,16954,17902,18202,22942]. To deal with these, the unknown age of the id was set to the average age of all runners who ranked within a range of +/- 50 of the runner in that particular year."
   ]
  },
  {
   "cell_type": "code",
   "execution_count": 17,
   "metadata": {
    "collapsed": false
   },
   "outputs": [],
   "source": [
    "def correctSingleInstanceAge(runnerId,data):\n",
    "    rank = int(data[data['Id'] == runnerId]['Rank'])\n",
    "    year = int(data[data['Id'] == runnerId]['Year'])\n",
    "    rangeOfRunners = data[(data['Rank']>rank-50) & (data['Rank']<rank+50)& (data['Year'] == year)]\n",
    "    avgAge = rangeOfRunners['Age'].sum()/rangeOfRunners['Age'].size\n",
    "\n",
    "    index = data[data['Id']==runnerId].index\n",
    "    data.set_value(index, 'Age', avgAge)\n",
    "    return\n"
   ]
  },
  {
   "cell_type": "code",
   "execution_count": 18,
   "metadata": {
    "collapsed": false
   },
   "outputs": [],
   "source": [
    "ageCorrectionRunnerIds = [16673,16954,17902,18202,22942]\n",
    "for n in ageCorrectionRunnerIds:\n",
    "    correctSingleInstanceAge(n,data)"
   ]
  },
  {
   "cell_type": "markdown",
   "metadata": {},
   "source": [
    "Runner id's [23714,26270] represent unknown identities, despite clearly being different people that ran in the same year. This represents 6 people in 2013 and 4 people in 2014."
   ]
  },
  {
   "cell_type": "code",
   "execution_count": 19,
   "metadata": {
    "collapsed": false
   },
   "outputs": [
    {
     "name": "stdout",
     "output_type": "stream",
     "text": [
      "      Id  Age  Rank  Year   Time  Pace  Sex\n",
      "489  308    0  1357  2014  15975   609    0\n",
      "488  308   45  1204  2016  15137   578    0\n",
      "        Id  Age  Rank  Year   Time  Pace  Sex\n",
      "2050  1229   44  1566  2005  19757   754    1\n",
      "2047  1229   50  2208  2006  21090   804    1\n",
      "2044  1229   46  2054  2007  19896   759    1\n",
      "2042  1229   47  2414  2008  20344   776    1\n",
      "2041  1229   48  2717  2009  22803   870    1\n",
      "2049  1229   49  2811  2010  23191   885    1\n",
      "2046  1229    0  3332  2011  20990   801    1\n",
      "2048  1229   50  3482  2011  22896   873    1\n",
      "2045  1229   51  3870  2012  23302   889    1\n",
      "2043  1229   53  3194  2014  21215   809    1\n",
      "2052  1229   50  2748  2015  25435   970    1\n",
      "2051  1229   55  2783  2016  20941   800    1\n",
      "         Id  Age  Rank  Year   Time  Pace  Sex\n",
      "10746  6491   42    84  2005  11596   442    1\n",
      "10743  6491   43   217  2006  12496   476    1\n",
      "10745  6491    0   264  2012  12452   475    1\n",
      "10744  6491   50   396  2015  13172   502    1\n",
      "         Id  Age  Rank  Year   Time  Pace  Sex\n",
      "13065  8250    0   282  2006  12790   488    1\n",
      "13066  8250   45   196  2007  12790   488    1\n",
      "13067  8250   46   278  2008  12690   484    1\n",
      "13064  8250   47   501  2009  13384   510    1\n",
      "          Id  Age  Rank  Year   Time  Pace  Sex\n",
      "24232  17070   30  1589  2010  16739   638    1\n",
      "24231  17070    0  2041  2011  16397   625    1\n"
     ]
    }
   ],
   "source": [
    "zeroAge = data[(data['Age'] == 0)&(data['Id'] != 26270) &(data['Id'] != 23714) ].index.tolist()\n",
    "runnerId = [data.iloc[x]['Id'] for x in zeroAge]\n",
    "for i in runnerId:\n",
    "    print data[data['Id'] == i].sort_values(by='Year')"
   ]
  },
  {
   "cell_type": "markdown",
   "metadata": {},
   "source": [
    "For the remaining runner Ids, the participant ran in at least one other year where the age information is recorded. By taking the difference in the years, this offset is added to the recorded age."
   ]
  },
  {
   "cell_type": "code",
   "execution_count": 20,
   "metadata": {
    "collapsed": true
   },
   "outputs": [],
   "source": [
    "def offsetAge(idRecorded,idError,data):\n",
    "    ageRecorded = data.loc[idRecorded]['Age']\n",
    "    yearRecorded = data.loc[idRecorded]['Year']\n",
    "    yearError = data.loc[idError]['Year']\n",
    "    offset = yearError - yearRecorded\n",
    "    data.set_value(idError, 'Age', ageRecorded+offset)\n",
    "    return"
   ]
  },
  {
   "cell_type": "code",
   "execution_count": 21,
   "metadata": {
    "collapsed": false
   },
   "outputs": [],
   "source": [
    "offsetAge(488,489,data)\n",
    "offsetAge(2049,2046,data)\n",
    "offsetAge(10743,10745,data)\n",
    "offsetAge(13066,13065,data)\n",
    "offsetAge(24232,24231,data)"
   ]
  },
  {
   "cell_type": "code",
   "execution_count": 22,
   "metadata": {
    "collapsed": false
   },
   "outputs": [
    {
     "data": {
      "text/html": [
       "<div>\n",
       "<table border=\"1\" class=\"dataframe\">\n",
       "  <thead>\n",
       "    <tr style=\"text-align: right;\">\n",
       "      <th></th>\n",
       "      <th>Id</th>\n",
       "      <th>Age</th>\n",
       "      <th>Rank</th>\n",
       "      <th>Year</th>\n",
       "      <th>Time</th>\n",
       "      <th>Pace</th>\n",
       "      <th>Sex</th>\n",
       "    </tr>\n",
       "  </thead>\n",
       "  <tbody>\n",
       "  </tbody>\n",
       "</table>\n",
       "</div>"
      ],
      "text/plain": [
       "Empty DataFrame\n",
       "Columns: [Id, Age, Rank, Year, Time, Pace, Sex]\n",
       "Index: []"
      ]
     },
     "execution_count": 22,
     "metadata": {},
     "output_type": "execute_result"
    }
   ],
   "source": [
    "data[(data['Id'] != 23714) & (data['Id'] != 26270) & (data['Age']==0)]"
   ]
  },
  {
   "cell_type": "markdown",
   "metadata": {},
   "source": [
    "## Smallest Age"
   ]
  },
  {
   "cell_type": "code",
   "execution_count": 23,
   "metadata": {
    "collapsed": false
   },
   "outputs": [
    {
     "data": {
      "text/plain": [
       "9"
      ]
     },
     "execution_count": 23,
     "metadata": {},
     "output_type": "execute_result"
    }
   ],
   "source": [
    "data[(data['Id'] != 23714) & (data['Id'] != 26270)]['Age'].min()"
   ]
  },
  {
   "cell_type": "code",
   "execution_count": 26,
   "metadata": {
    "collapsed": false
   },
   "outputs": [
    {
     "data": {
      "text/html": [
       "<div>\n",
       "<table border=\"1\" class=\"dataframe\">\n",
       "  <thead>\n",
       "    <tr style=\"text-align: right;\">\n",
       "      <th></th>\n",
       "      <th>Id</th>\n",
       "      <th>Age</th>\n",
       "      <th>Rank</th>\n",
       "      <th>Year</th>\n",
       "      <th>Time</th>\n",
       "      <th>Pace</th>\n",
       "      <th>Sex</th>\n",
       "    </tr>\n",
       "  </thead>\n",
       "  <tbody>\n",
       "    <tr>\n",
       "      <th>31786</th>\n",
       "      <td>23689</td>\n",
       "      <td>9</td>\n",
       "      <td>2339</td>\n",
       "      <td>2013</td>\n",
       "      <td>6994</td>\n",
       "      <td>533</td>\n",
       "      <td>1</td>\n",
       "    </tr>\n",
       "  </tbody>\n",
       "</table>\n",
       "</div>"
      ],
      "text/plain": [
       "          Id  Age  Rank  Year  Time  Pace  Sex\n",
       "31786  23689    9  2339  2013  6994   533    1"
      ]
     },
     "execution_count": 26,
     "metadata": {},
     "output_type": "execute_result"
    }
   ],
   "source": [
    "data[data['Age']==9]"
   ]
  },
  {
   "cell_type": "code",
   "execution_count": 27,
   "metadata": {
    "collapsed": false
   },
   "outputs": [
    {
     "data": {
      "text/html": [
       "<div>\n",
       "<table border=\"1\" class=\"dataframe\">\n",
       "  <thead>\n",
       "    <tr style=\"text-align: right;\">\n",
       "      <th></th>\n",
       "      <th>Id</th>\n",
       "      <th>Age</th>\n",
       "      <th>Rank</th>\n",
       "      <th>Year</th>\n",
       "      <th>Time</th>\n",
       "      <th>Pace</th>\n",
       "      <th>Sex</th>\n",
       "    </tr>\n",
       "  </thead>\n",
       "  <tbody>\n",
       "    <tr>\n",
       "      <th>31786</th>\n",
       "      <td>23689</td>\n",
       "      <td>9</td>\n",
       "      <td>2339</td>\n",
       "      <td>2013</td>\n",
       "      <td>6994</td>\n",
       "      <td>533</td>\n",
       "      <td>1</td>\n",
       "    </tr>\n",
       "    <tr>\n",
       "      <th>31787</th>\n",
       "      <td>23689</td>\n",
       "      <td>45</td>\n",
       "      <td>2339</td>\n",
       "      <td>2013</td>\n",
       "      <td>6994</td>\n",
       "      <td>533</td>\n",
       "      <td>1</td>\n",
       "    </tr>\n",
       "  </tbody>\n",
       "</table>\n",
       "</div>"
      ],
      "text/plain": [
       "          Id  Age  Rank  Year  Time  Pace  Sex\n",
       "31786  23689    9  2339  2013  6994   533    1\n",
       "31787  23689   45  2339  2013  6994   533    1"
      ]
     },
     "execution_count": 27,
     "metadata": {},
     "output_type": "execute_result"
    }
   ],
   "source": [
    "data[data['Id']==23689]"
   ]
  },
  {
   "cell_type": "markdown",
   "metadata": {},
   "source": [
    "Participants ran in the same year with the same id/time/pace/sex. Id 31786 can be perceived as an error and eliminated."
   ]
  },
  {
   "cell_type": "code",
   "execution_count": 33,
   "metadata": {
    "collapsed": false
   },
   "outputs": [],
   "source": [
    "data = data.drop([31786])"
   ]
  },
  {
   "cell_type": "code",
   "execution_count": 36,
   "metadata": {
    "collapsed": false
   },
   "outputs": [
    {
     "data": {
      "text/plain": [
       "10"
      ]
     },
     "execution_count": 36,
     "metadata": {},
     "output_type": "execute_result"
    }
   ],
   "source": [
    "data[(data['Id'] != 23714) & (data['Id'] != 26270)]['Age'].min()"
   ]
  },
  {
   "cell_type": "markdown",
   "metadata": {},
   "source": [
    "## Force Ages to increments of 5"
   ]
  },
  {
   "cell_type": "code",
   "execution_count": 11,
   "metadata": {
    "collapsed": false
   },
   "outputs": [],
   "source": [
    "for i in range (data['Age'].size):\n",
    "    data.iloc[i]['Age'] = data.iloc[i]['Age'] - data.iloc[i]['Age']%5"
   ]
  },
  {
   "cell_type": "code",
   "execution_count": 12,
   "metadata": {
    "collapsed": false
   },
   "outputs": [
    {
     "data": {
      "text/plain": [
       "5"
      ]
     },
     "execution_count": 12,
     "metadata": {},
     "output_type": "execute_result"
    }
   ],
   "source": [
    "data[(data['Id'] != 23714) & (data['Id'] != 26270)]['Age'].min()"
   ]
  },
  {
   "cell_type": "code",
   "execution_count": 1,
   "metadata": {
    "collapsed": false
   },
   "outputs": [
    {
     "ename": "NameError",
     "evalue": "name 'pd' is not defined",
     "output_type": "error",
     "traceback": [
      "\u001b[0;31m---------------------------------------------------------------------------\u001b[0m",
      "\u001b[0;31mNameError\u001b[0m                                 Traceback (most recent call last)",
      "\u001b[0;32m<ipython-input-1-73e2c482cadd>\u001b[0m in \u001b[0;36m<module>\u001b[0;34m()\u001b[0m\n\u001b[1;32m      1\u001b[0m \u001b[0;32mimport\u001b[0m \u001b[0mmatplotlib\u001b[0m\u001b[0;34m.\u001b[0m\u001b[0mpyplot\u001b[0m \u001b[0;32mas\u001b[0m \u001b[0mplt\u001b[0m\u001b[0;34m\u001b[0m\u001b[0m\n\u001b[0;32m----> 2\u001b[0;31m \u001b[0mpd\u001b[0m\u001b[0;34m.\u001b[0m\u001b[0mSeries\u001b[0m\u001b[0;34m.\u001b[0m\u001b[0mhist\u001b[0m\u001b[0;34m(\u001b[0m\u001b[0mdata\u001b[0m\u001b[0;34m[\u001b[0m\u001b[0;34m'Age'\u001b[0m\u001b[0;34m]\u001b[0m\u001b[0;34m)\u001b[0m\u001b[0;34m\u001b[0m\u001b[0m\n\u001b[0m\u001b[1;32m      3\u001b[0m \u001b[0mplt\u001b[0m\u001b[0;34m.\u001b[0m\u001b[0mshow\u001b[0m\u001b[0;34m(\u001b[0m\u001b[0;34m)\u001b[0m\u001b[0;34m\u001b[0m\u001b[0m\n",
      "\u001b[0;31mNameError\u001b[0m: name 'pd' is not defined"
     ]
    }
   ],
   "source": [
    "import matplotlib.pyplot as plt\n",
    "pd.Series.hist(data['Age'])\n",
    "#plt.show()"
   ]
  },
  {
   "cell_type": "markdown",
   "metadata": {},
   "source": [
    "## Add weather data"
   ]
  },
  {
   "cell_type": "code",
   "execution_count": null,
   "metadata": {
    "collapsed": true
   },
   "outputs": [],
   "source": []
  }
 ],
 "metadata": {
  "kernelspec": {
   "display_name": "Python 2",
   "language": "python",
   "name": "python2"
  },
  "language_info": {
   "codemirror_mode": {
    "name": "ipython",
    "version": 2
   },
   "file_extension": ".py",
   "mimetype": "text/x-python",
   "name": "python",
   "nbconvert_exporter": "python",
   "pygments_lexer": "ipython2",
   "version": "2.7.10"
  }
 },
 "nbformat": 4,
 "nbformat_minor": 1
}
