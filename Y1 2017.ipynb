{
 "cells": [
  {
   "cell_type": "code",
   "execution_count": 1,
   "metadata": {
    "collapsed": true
   },
   "outputs": [],
   "source": [
    "import pandas as pd\n",
    "import numpy as np\n",
    "import pickle\n",
    "from collections import Counter"
   ]
  },
  {
   "cell_type": "code",
   "execution_count": 2,
   "metadata": {
    "collapsed": false
   },
   "outputs": [],
   "source": [
    "data = pd.read_csv('data/Project1_data.csv')\n",
    "\n",
    "f = open('data/out.pkl', 'r')\n",
    "train = pickle.load(f) \n",
    "f.close()\n",
    "\n",
    "g = open('data/ages.pkl', 'r')\n",
    "ages = pickle.load(g) \n",
    "g.close()"
   ]
  },
  {
   "cell_type": "code",
   "execution_count": null,
   "metadata": {
    "collapsed": false
   },
   "outputs": [],
   "source": [
    "ids   = list(set(data['Id'].values.tolist()))\n",
    "ids_t = list(set(train['Id'].values.tolist()))\n",
    "ids_d = list(set(ids)^set(ids_t))\n",
    "\n",
    "d = {'Id' : ids}\n",
    "Y1_2017 = pd.DataFrame(d, columns=['Id', 'Age', 'Sex', 'AvgTime','NumRaces','YrsSinceLast','Y1'])"
   ]
  },
  {
   "cell_type": "code",
   "execution_count": null,
   "metadata": {
    "collapsed": false
   },
   "outputs": [],
   "source": [
    "for i in Y1_2017.index.tolist():\n",
    "    rid = Y1_2017.loc[i]['Id']\n",
    "    \n",
    "    if rid in ids_t:\n",
    "        age = ages[str(rid)] - ages[str(rid)]%5\n",
    "        sex = train[train['Id']==rid]['Sex'].values[0]\n",
    "\n",
    "        prevRaces = train[(train['Id']==rid)&(train['Year']<2017)]\n",
    "        prevTimeSum = sum(prevRaces['nTime'].values)\n",
    "        numRaces  = prevRaces['Year'].size\n",
    "        avgTime = prevTimeSum/numRaces\n",
    "\n",
    "        if numRaces == 0:\n",
    "            ysl = 15\n",
    "        else:\n",
    "            prev_year = max(train[(train['Id']==rid)&(train['Year']<2017)]['Year'].values.tolist())\n",
    "            ysl = 2017-prev_year\n",
    "\n",
    "        Y1_2017.set_value(i,'Age',age)\n",
    "        Y1_2017.set_value(i,'Sex',sex)\n",
    "        Y1_2017.set_value(i,'AvgTime', avgTime)\n",
    "        Y1_2017.set_value(i,'NumRaces', numRaces)\n",
    "        Y1_2017.set_value(i,'YrsSinceLast',ysl)"
   ]
  },
  {
   "cell_type": "code",
   "execution_count": null,
   "metadata": {
    "collapsed": false
   },
   "outputs": [],
   "source": [
    "Y1_2017 = Y1_2017.fillna(-1)"
   ]
  },
  {
   "cell_type": "markdown",
   "metadata": {},
   "source": [
    "## Runners Who Ran in 2013"
   ]
  },
  {
   "cell_type": "code",
   "execution_count": null,
   "metadata": {
    "collapsed": false,
    "scrolled": false
   },
   "outputs": [],
   "source": [
    "rid_2013_and_other_years = []\n",
    "rid_2013_only = []\n",
    "rid_others = []\n",
    "for i in Y1_2017[Y1_2017['Age']==(-1)].index.tolist():\n",
    "    rid = Y1_2017.loc[i]['Id']\n",
    "    if(data[(data['Id']==rid)&(data['Year']==2013)]['Id'].size > 0):\n",
    "        if( len(set(data[data['Id']==rid]['Year'].values.tolist())) > 1 ):\n",
    "            rid_2013_and_other_years.append(rid)\n",
    "        else:\n",
    "            rid_2013_only.append(rid)\n",
    "    else:\n",
    "        rid_others.append(rid)\n",
    "        \n",
    "data_2013 = pd.read_csv('data/data.csv')"
   ]
  },
  {
   "cell_type": "code",
   "execution_count": null,
   "metadata": {
    "collapsed": true
   },
   "outputs": [],
   "source": [
    "def fullMarathonTime(halfMarathonTime):\n",
    "    return np.round(halfMarathonTime*((26.219/13.095)**1.06))"
   ]
  },
  {
   "cell_type": "code",
   "execution_count": null,
   "metadata": {
    "collapsed": false
   },
   "outputs": [],
   "source": [
    "time_2013 = data_2013[data['Year']==2013]['Time'].values.tolist()\n",
    "time_2013_max = fullMarathonTime( max(time_2013) )\n",
    "time_2013_min = fullMarathonTime( min(time_2013) )"
   ]
  },
  {
   "cell_type": "code",
   "execution_count": null,
   "metadata": {
    "collapsed": false
   },
   "outputs": [],
   "source": [
    "Y1_2017[Y1_2017['Age']==(-1)]['Id'].size"
   ]
  },
  {
   "cell_type": "code",
   "execution_count": null,
   "metadata": {
    "collapsed": false
   },
   "outputs": [],
   "source": [
    "for rid in rid_2013_only:\n",
    "    i = Y1_2017[Y1_2017['Id']==rid].index.tolist()[0]\n",
    "\n",
    "    if (len(data[data['Id']==rid]['Year'].values.tolist())==1):\n",
    "        record = data_2013[data_2013['Id']==rid]\n",
    "        age = 2017- record['Year']+record['Age']\n",
    "        age = age - age%5\n",
    "        sex = record['Sex']\n",
    "        time = (fullMarathonTime ( record['Time'] ) - time_2013_min)/ time_2013_max\n",
    "        numRaces = 1.\n",
    "        ysl = 2017-record['Year']\n",
    "        \n",
    "        Y1_2017.set_value(i,'Age',age)\n",
    "        Y1_2017.set_value(i,'Sex',sex)\n",
    "        Y1_2017.set_value(i,'AvgTime', time)\n",
    "        Y1_2017.set_value(i,'NumRaces', numRaces)\n",
    "        Y1_2017.set_value(i,'YrsSinceLast',ysl)\n",
    "    else:\n",
    "        record = data_2013[data_2013['Id']==rid]\n",
    "        size = record['Id'].size\n",
    "        \n",
    "        avg_age = np.round(sum(record['Age'].values.tolist())*1./size)\n",
    "        age = 2017- 2013 + avg_age\n",
    "        age = age - age%5\n",
    "        \n",
    "        sex = sum(record['Sex'].values.tolist())*1./size\n",
    "        if(sex > 0.5):\n",
    "            sex = 1\n",
    "        else:\n",
    "            sex = 0\n",
    "        \n",
    "        avg = np.round(sum(record['Time'].values.tolist())*1./size)\n",
    "        time = (fullMarathonTime ( avg ) - time_2013_min)/ time_2013_max\n",
    "        numRaces = 1.\n",
    "        ysl = 2017-max(list(set(data_2013[data_2013['Id']==rid]['Year'].values.tolist())))\n",
    "        \n",
    "        Y1_2017.set_value(i,'Age',age)\n",
    "        Y1_2017.set_value(i,'Sex',sex)\n",
    "        Y1_2017.set_value(i,'AvgTime', time)\n",
    "        Y1_2017.set_value(i,'NumRaces', numRaces)\n",
    "        Y1_2017.set_value(i,'YrsSinceLast',ysl)"
   ]
  },
  {
   "cell_type": "code",
   "execution_count": null,
   "metadata": {
    "collapsed": false
   },
   "outputs": [],
   "source": [
    "for rid in rid_2013_and_other_years:\n",
    "    i = Y1_2017[Y1_2017['Id']==rid].index.tolist()[0]\n",
    "    record = data_2013[data_2013['Id']==rid]\n",
    "    size = record['Id'].size\n",
    "        \n",
    "    avg_age = np.round(sum(record['Age'].values.tolist())*1./size)\n",
    "    avg_year= np.round(sum(record['Year'].values.tolist())*1./size)\n",
    "    \n",
    "    age = 2017- avg_year + avg_age\n",
    "    age = age - age%5\n",
    "\n",
    "    sex = sum(record['Sex'].values.tolist())*1./size\n",
    "    if(sex > 0.5):\n",
    "        sex = 1\n",
    "    else:\n",
    "        sex = 0\n",
    "\n",
    "    avg_time = np.round(sum(record['Time'].values.tolist())*1./size)\n",
    "    time = (fullMarathonTime ( avg ) - time_2013_min)/ time_2013_max\n",
    "    numRaces = 1.25841017604\n",
    "    #numRaces = len(set(data_2013[data_2013['Id']==rid]['Year'].values.tolist()))*1.\n",
    "    ysl = 2017-max(list(set(data_2013[data_2013['Id']==rid]['Year'].values.tolist())))\n",
    "    \n",
    "    Y1_2017.set_value(i,'Age',age)\n",
    "    Y1_2017.set_value(i,'Sex',sex)\n",
    "    Y1_2017.set_value(i,'AvgTime', time)\n",
    "    Y1_2017.set_value(i,'NumRaces', numRaces)\n",
    "    Y1_2017.set_value(i,'YrsSinceLast',ysl)"
   ]
  },
  {
   "cell_type": "code",
   "execution_count": null,
   "metadata": {
    "collapsed": false
   },
   "outputs": [],
   "source": [
    "Y1_2017[Y1_2017['Age']==(-1)]['Id'].size"
   ]
  },
  {
   "cell_type": "code",
   "execution_count": null,
   "metadata": {
    "collapsed": false
   },
   "outputs": [],
   "source": [
    "for rid in rid_others:\n",
    "    i = Y1_2017[Y1_2017['Id']==rid].index.tolist()[0]\n",
    "    record = data_2013[data_2013['Id']==rid]\n",
    "    \n",
    "    if (data[data['Id']==rid]['Id'].size==1):\n",
    "        record = data_2013[data_2013['Id']==rid]\n",
    "        age = 2017- record['Year']+record['Age']\n",
    "        age = age - age%5\n",
    "        sex = record['Sex']\n",
    "        time = (record['Time'] - time_2013_min)/ time_2013_max\n",
    "        numRaces = 1.\n",
    "        ysl = 2017-record['Year']\n",
    "        \n",
    "        Y1_2017.set_value(i,'Age',age)\n",
    "        Y1_2017.set_value(i,'Sex',sex)\n",
    "        Y1_2017.set_value(i,'AvgTime', time)\n",
    "        Y1_2017.set_value(i,'NumRaces', numRaces)\n",
    "        Y1_2017.set_value(i,'YrsSinceLast',ysl)\n",
    "    else:\n",
    "        size = record['Id'].size\n",
    "        avg_age = np.round(sum(record['Age'].values.tolist())*1./size)\n",
    "        avg_year= np.round(sum(record['Year'].values.tolist())*1./size)\n",
    "\n",
    "        age = 2017- avg_year + avg_age\n",
    "        age = age - age%5\n",
    "\n",
    "        sex = sum(record['Sex'].values.tolist())*1./size\n",
    "        if(sex > 0.5):\n",
    "            sex = 1\n",
    "        else:\n",
    "            sex = 0\n",
    "\n",
    "        avg_time = np.round(sum(record['Time'].values.tolist())*1./size)\n",
    "        time = (avg_time - time_2013_min)/ time_2013_max\n",
    "        \n",
    "        numRaces = len(set(data_2013[data_2013['Id']==rid]['Year'].values.tolist()))*1.\n",
    "        ysl = 2017-max(list(set(data_2013[data_2013['Id']==rid]['Year'].values.tolist())))\n",
    "        \n",
    "        Y1_2017.set_value(i,'Age',age)\n",
    "        Y1_2017.set_value(i,'Sex',sex)\n",
    "        Y1_2017.set_value(i,'AvgTime', time)\n",
    "        Y1_2017.set_value(i,'NumRaces', numRaces)\n",
    "        Y1_2017.set_value(i,'YrsSinceLast',ysl)"
   ]
  },
  {
   "cell_type": "code",
   "execution_count": null,
   "metadata": {
    "collapsed": true
   },
   "outputs": [],
   "source": []
  }
 ],
 "metadata": {
  "kernelspec": {
   "display_name": "Python 2",
   "language": "python",
   "name": "python2"
  },
  "language_info": {
   "codemirror_mode": {
    "name": "ipython",
    "version": 2
   },
   "file_extension": ".py",
   "mimetype": "text/x-python",
   "name": "python",
   "nbconvert_exporter": "python",
   "pygments_lexer": "ipython2",
   "version": "2.7.10"
  }
 },
 "nbformat": 4,
 "nbformat_minor": 1
}
