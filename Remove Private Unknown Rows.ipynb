{
 "cells": [
  {
   "cell_type": "code",
   "execution_count": 1,
   "metadata": {
    "collapsed": true
   },
   "outputs": [],
   "source": [
    "from collections import Counter\n",
    "import pandas as pd\n",
    "import numpy as np\n",
    "import pickle"
   ]
  },
  {
   "cell_type": "code",
   "execution_count": 2,
   "metadata": {
    "collapsed": true
   },
   "outputs": [],
   "source": [
    "f = open('data.pkl', 'r')\n",
    "data = pickle.load(f) \n",
    "f.close()"
   ]
  },
  {
   "cell_type": "code",
   "execution_count": 3,
   "metadata": {
    "collapsed": false
   },
   "outputs": [],
   "source": [
    "del data['Rank']\n",
    "del data['Time']\n",
    "del data['Pace']\n",
    "del data['Temp']\n",
    "del data['halfMarathonTime']\n",
    "del data['yrsSinceLast']\n",
    "del data['prevRaceCount']"
   ]
  },
  {
   "cell_type": "code",
   "execution_count": 4,
   "metadata": {
    "collapsed": false
   },
   "outputs": [],
   "source": [
    "err0 = [3327, 23714, 26270]\n",
    "err1 = [6291, 10828, 23068, 23832, 24624]\n",
    "err2 = [92,195,304,347, 470, 584, 653, 929, 1007, 1075, 1168, 1203, 1207, 1229, 1302, 1338,\n",
    " 1470, 1531, 1582, 1666, 2293, 2642, 3391, 3503, 3655, 4142, 4196, 4835, 4937, 5123, 5210, 5315,\n",
    " 5585, 6099, 6857, 7109, 7289, 7506, 8174, 9294, 9370, 9721, 10236, 10638, 10888, 11916, 12244, 13104,\n",
    " 13850, 13944, 15610, 15872, 15970, 16803, 17190, 17499, 17817, 17857, 18403, 18709, 18716, 18740, 19479, 20471,\n",
    " 20754, 21700, 21839, 22059, 22729, 22902, 23632, 23917, 23942,24205,24253,24854,27165]"
   ]
  },
  {
   "cell_type": "markdown",
   "metadata": {},
   "source": [
    "## Removing Unknown and Private participants"
   ]
  },
  {
   "cell_type": "code",
   "execution_count": 5,
   "metadata": {
    "collapsed": false
   },
   "outputs": [],
   "source": [
    "count = 0\n",
    "for err in err0:\n",
    "    ids = data[(data['Id']==err)].index.tolist()\n",
    "    \n",
    "    count += len(ids)\n",
    "    for i in ids:\n",
    "        data=data.drop(i)"
   ]
  },
  {
   "cell_type": "markdown",
   "metadata": {},
   "source": [
    "## Removing participants with multiple submissions in the same year"
   ]
  },
  {
   "cell_type": "code",
   "execution_count": 6,
   "metadata": {
    "collapsed": false
   },
   "outputs": [],
   "source": [
    "err1.extend(err2)\n",
    "for err in err1:\n",
    "    runnerData = data[data['Id']==err]\n",
    "    yearCount = Counter(runnerData['Year'])\n",
    "    ids = []\n",
    "    for y in yearCount.keys():\n",
    "        if yearCount[y] > 1:\n",
    "            idsSameYear=runnerData[runnerData['Year']==y].index.tolist()\n",
    "            ids.extend(idsSameYear)\n",
    "            count+= len(idsSameYear)\n",
    "    for i in ids:\n",
    "        data=data.drop(i)"
   ]
  },
  {
   "cell_type": "code",
   "execution_count": 7,
   "metadata": {
    "collapsed": true
   },
   "outputs": [],
   "source": [
    "del data['Age']\n",
    "del data['Year']"
   ]
  },
  {
   "cell_type": "markdown",
   "metadata": {},
   "source": [
    "## Average number of races per person"
   ]
  },
  {
   "cell_type": "code",
   "execution_count": 14,
   "metadata": {
    "collapsed": false
   },
   "outputs": [
    {
     "name": "stdout",
     "output_type": "stream",
     "text": [
      "Counter({1: 25822, 2: 2916, 3: 846, 4: 383, 5: 195, 6: 82, 7: 44, 8: 30, 9: 22, 10: 14, 12: 11, 11: 8, 13: 6})\n",
      "1.2632081372\n"
     ]
    }
   ],
   "source": [
    "ids = list(set(data['Id'].values.tolist()))\n",
    "p = len(ids)\n",
    "r = 0.\n",
    "histogram = []\n",
    "for i in ids:\n",
    "    r+=data[data['Id']==i]['raceCount'].values[0]\n",
    "    histogram.append(data[data['Id']==i]['raceCount'].values[0])\n",
    "hist = Counter(histogram)\n",
    "print hist\n",
    "print r/p"
   ]
  },
  {
   "cell_type": "code",
   "execution_count": 15,
   "metadata": {
    "collapsed": true
   },
   "outputs": [],
   "source": [
    "del data['raceCount']"
   ]
  },
  {
   "cell_type": "markdown",
   "metadata": {},
   "source": [
    "## Save data"
   ]
  },
  {
   "cell_type": "code",
   "execution_count": 9,
   "metadata": {
    "collapsed": true
   },
   "outputs": [],
   "source": [
    "data.to_csv('noduplicates.csv')"
   ]
  },
  {
   "cell_type": "code",
   "execution_count": 10,
   "metadata": {
    "collapsed": true
   },
   "outputs": [],
   "source": [
    "f = open('noduplicates.pkl', 'w')\n",
    "pickle.dump(data,f) \n",
    "f.close()"
   ]
  }
 ],
 "metadata": {
  "kernelspec": {
   "display_name": "Python 2",
   "language": "python",
   "name": "python2"
  },
  "language_info": {
   "codemirror_mode": {
    "name": "ipython",
    "version": 2
   },
   "file_extension": ".py",
   "mimetype": "text/x-python",
   "name": "python",
   "nbconvert_exporter": "python",
   "pygments_lexer": "ipython2",
   "version": "2.7.10"
  }
 },
 "nbformat": 4,
 "nbformat_minor": 1
}
