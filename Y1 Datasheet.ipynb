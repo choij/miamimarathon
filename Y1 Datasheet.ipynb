{
 "cells": [
  {
   "cell_type": "markdown",
   "metadata": {},
   "source": [
    "# Columns ['Id', 'Age', 'Sex', 'AvgTime','NumRaces','YrsSinceLast','Y1']"
   ]
  },
  {
   "cell_type": "markdown",
   "metadata": {},
   "source": [
    "Y1 data for 2016 participation.\n",
    "\n",
    "Id: Runner id\n",
    "\n",
    "Age: Age in 2016. Normalized between max=92 and min=11 ages of historical data.\n",
    "\n",
    "Sex: 1 (M) or 0 (F)\n",
    "\n",
    "AvgTime: Average of normalized times of previous races. AvgTime is in range [0,1]\n",
    "\n",
    "NumRaces: Number of races ran before 2016. Normalized [0,1]\n",
    "\n",
    "YrsSinceLast: Number of Years since the last race they ran. Normalized [0,1]"
   ]
  },
  {
   "cell_type": "code",
   "execution_count": 1,
   "metadata": {
    "collapsed": true
   },
   "outputs": [],
   "source": [
    "from collections import Counter\n",
    "import pandas as pd\n",
    "import numpy as np\n",
    "import pickle"
   ]
  },
  {
   "cell_type": "code",
   "execution_count": 2,
   "metadata": {
    "collapsed": true
   },
   "outputs": [],
   "source": [
    "f = open('data/out.pkl', 'r')\n",
    "data = pickle.load(f) \n",
    "f.close()"
   ]
  },
  {
   "cell_type": "code",
   "execution_count": 3,
   "metadata": {
    "collapsed": false
   },
   "outputs": [
    {
     "data": {
      "text/plain": [
       "34527"
      ]
     },
     "execution_count": 3,
     "metadata": {},
     "output_type": "execute_result"
    }
   ],
   "source": [
    "data['Id'].size"
   ]
  },
  {
   "cell_type": "markdown",
   "metadata": {},
   "source": [
    "Initially there are 34527 rows of data."
   ]
  },
  {
   "cell_type": "code",
   "execution_count": 4,
   "metadata": {
    "collapsed": false
   },
   "outputs": [],
   "source": [
    "rid_2016 = data[data['Year']==2016]['Id'].values.tolist()\n",
    "for rid in rid_2016:\n",
    "    if(data[data['Id']==rid]['Year'].size ==1):\n",
    "        index = data[data['Id']==rid].index.tolist()[0]\n",
    "        data = data.drop(index)"
   ]
  },
  {
   "cell_type": "code",
   "execution_count": 5,
   "metadata": {
    "collapsed": false
   },
   "outputs": [
    {
     "data": {
      "text/plain": [
       "32256"
      ]
     },
     "execution_count": 5,
     "metadata": {},
     "output_type": "execute_result"
    }
   ],
   "source": [
    "data['Id'].size"
   ]
  },
  {
   "cell_type": "markdown",
   "metadata": {},
   "source": [
    "Removing runners that only ran in 2016, we are left with 32256 rows. "
   ]
  },
  {
   "cell_type": "markdown",
   "metadata": {},
   "source": [
    "## Sort data by runner, year\n",
    "data.sort_values(by='Id').sort_values(by='Year')"
   ]
  },
  {
   "cell_type": "markdown",
   "metadata": {},
   "source": [
    "## Number of unique IDs to predict for 2016"
   ]
  },
  {
   "cell_type": "code",
   "execution_count": 6,
   "metadata": {
    "collapsed": false
   },
   "outputs": [],
   "source": [
    "unique_ids = list(set(data['Id'].values.tolist()))"
   ]
  },
  {
   "cell_type": "code",
   "execution_count": 7,
   "metadata": {
    "collapsed": false
   },
   "outputs": [],
   "source": [
    "d = {'Id' : unique_ids}\n",
    "XY1 = pd.DataFrame(d, columns=['Id', 'Age', 'Sex', 'AvgTime','NumRaces','YrsSinceLast','Y1'])"
   ]
  },
  {
   "cell_type": "markdown",
   "metadata": {},
   "source": [
    "## Set Y1 Table Data for 2016 Participation"
   ]
  },
  {
   "cell_type": "code",
   "execution_count": 9,
   "metadata": {
    "collapsed": false,
    "scrolled": false
   },
   "outputs": [],
   "source": [
    "XY1['Y1']=0\n",
    "XY1['NumRaces']=0.\n",
    "XY1['YrsSinceLast']=15.\n",
    "XY1['Age']=0.\n",
    "\n",
    "indices = XY1.index.tolist()\n",
    "for i in indices:\n",
    "    rid = XY1.loc[i]['Id']\n",
    "    last_race_year = max(data[data['Id']==rid]['Year'].values.tolist())\n",
    "    \n",
    "    last_age = data[(data['Id']==rid)&(data['Year']==last_race_year)]['Age'].values[0]\n",
    "    age = 2016-last_race_year + last_age\n",
    "    \n",
    "    sex = data[data['Id']==rid]['Sex'].values[0]\n",
    "    \n",
    "    #last_ysl = data[(data['Id']==rid)&(data['Year']==last_race_year)]['yrsSinceLast'].values[0]\n",
    "    prev_year = max(data[(data['Id']==rid)&(data['Year']<2016)]['Year'].values.tolist())\n",
    "    ysl = 2016-prev_year\n",
    "\n",
    "    prevRaces = data[(data['Id']==rid)&(data['Year']<2016)]\n",
    "    prevTimeSum = sum(prevRaces['Time'].values)\n",
    "    numRaces  = prevRaces['Year'].size\n",
    "    avgTime = ((prevTimeSum-7942.)/(30282.-7942.))/numRaces\n",
    "    if(last_race_year==2016):\n",
    "        XY1.set_value(i, 'Y1', 1)\n",
    "    \n",
    "    XY1.set_value(i,'Age',age)\n",
    "    XY1.set_value(i,'Sex',sex)\n",
    "    XY1.set_value(i,'YrsSinceLast',ysl)\n",
    "    XY1.set_value(i,'AvgTime', avgTime)\n",
    "    XY1.set_value(i,'NumRaces', numRaces)"
   ]
  },
  {
   "cell_type": "markdown",
   "metadata": {},
   "source": [
    "## Normalization"
   ]
  },
  {
   "cell_type": "code",
   "execution_count": 11,
   "metadata": {
    "collapsed": true
   },
   "outputs": [],
   "source": [
    "maxAge = max(XY1['Age'].values.tolist()) #92.0\n",
    "minAge = min(XY1['Age'].values.tolist()) #11.0"
   ]
  },
  {
   "cell_type": "code",
   "execution_count": 12,
   "metadata": {
    "collapsed": false
   },
   "outputs": [
    {
     "name": "stdout",
     "output_type": "stream",
     "text": [
      "92.0\n",
      "11.0\n"
     ]
    }
   ],
   "source": [
    "print maxAge\n",
    "print minAge"
   ]
  },
  {
   "cell_type": "code",
   "execution_count": 13,
   "metadata": {
    "collapsed": false
   },
   "outputs": [],
   "source": [
    "indices = XY1.index.tolist()\n",
    "for i in indices:\n",
    "    person = XY1.loc[i]\n",
    "    age = person['Age']\n",
    "    ysl = person['YrsSinceLast']\n",
    "    numRaces = person['NumRaces']\n",
    "\n",
    "    XY1.set_value(i,'Age',((age-minAge)*1./(maxAge-minAge)))\n",
    "    # Since 2016-2003 is 13, with minimum 1 previous race\n",
    "    XY1.set_value(i,'YrsSinceLast',(ysl-1)/13.)\n",
    "    # Races 2003-2015 is 13, but subtract 2013 therefore max 12\n",
    "    XY1.set_value(i,'NumRaces', (numRaces-1)/12.)"
   ]
  },
  {
   "cell_type": "code",
   "execution_count": 14,
   "metadata": {
    "collapsed": false
   },
   "outputs": [
    {
     "data": {
      "text/plain": [
       "24433"
      ]
     },
     "execution_count": 14,
     "metadata": {},
     "output_type": "execute_result"
    }
   ],
   "source": [
    "XY1[XY1['Y1']==0]['Id'].size"
   ]
  },
  {
   "cell_type": "code",
   "execution_count": 15,
   "metadata": {
    "collapsed": false
   },
   "outputs": [
    {
     "data": {
      "text/plain": [
       "733"
      ]
     },
     "execution_count": 15,
     "metadata": {},
     "output_type": "execute_result"
    }
   ],
   "source": [
    "XY1[XY1['Y1']==1]['Id'].size"
   ]
  },
  {
   "cell_type": "code",
   "execution_count": 25,
   "metadata": {
    "collapsed": false
   },
   "outputs": [
    {
     "data": {
      "text/plain": [
       "25166"
      ]
     },
     "execution_count": 25,
     "metadata": {},
     "output_type": "execute_result"
    }
   ],
   "source": [
    "XY1[XY1['Y1']==0]['Id'].size + XY1[XY1['Y1']==1]['Id'].size"
   ]
  },
  {
   "cell_type": "markdown",
   "metadata": {},
   "source": [
    "733 previous participants attend in 2016. 24433 do not return. We have 25166 rows of data to train for 2016."
   ]
  },
  {
   "cell_type": "markdown",
   "metadata": {},
   "source": [
    "## Store Values"
   ]
  },
  {
   "cell_type": "code",
   "execution_count": 26,
   "metadata": {
    "collapsed": true
   },
   "outputs": [],
   "source": [
    "f = open('data/xy1.pkl', 'w')\n",
    "pickle.dump(XY1,f) \n",
    "f.close()\n",
    "\n",
    "XY1.to_csv('data/xy1.csv')"
   ]
  }
 ],
 "metadata": {
  "kernelspec": {
   "display_name": "Python 2",
   "language": "python",
   "name": "python2"
  },
  "language_info": {
   "codemirror_mode": {
    "name": "ipython",
    "version": 2
   },
   "file_extension": ".py",
   "mimetype": "text/x-python",
   "name": "python",
   "nbconvert_exporter": "python",
   "pygments_lexer": "ipython2",
   "version": "2.7.10"
  }
 },
 "nbformat": 4,
 "nbformat_minor": 1
}
